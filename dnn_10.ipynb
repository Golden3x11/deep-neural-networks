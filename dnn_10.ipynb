{
 "cells": [
  {
   "cell_type": "markdown",
   "metadata": {
    "id": "MsITBHLCFCnJ"
   },
   "source": [
    "# Wstęp\n",
    "Zadanie 10 jest pierwszą częścią zajęć laboratoryjnych poświęconych sieciom rekurencyjnym i predykcji z wykorzystaniem danych multimodalnych. Efektem prac będzie sieć rekurencyjna do predykcji kursu kryptowaluty Bitcoin (BTC) w oparciu o dane z giełdy oraz o wyniki analizy emocji komunikatów z mediów społecznościowych, do których również należy utworzyć dedykowany model sieci rekurencyjnej. Plan realizacji etapów wygląda następująco:\n",
    "\n",
    "1.   EmoTweet - model sieci rekurencyjnej do analizy emocji (10 pkt., laboratorium 10)\n",
    "2. Agregacja informacji emotywnej i przygotowanie MultiBTC - multimodalnego model sieci rekurencyjnej do predykcji kursu BTC (10 pkt., laboratorium 11)\n",
    "3. Ewaluacja modelu MultiBTC (10 pkt., laboratorium 12)\n",
    "\n",
    "Łącznie można otrzymać 30 punktów.\n",
    "\n",
    "# Cel ćwiczenia\n",
    "\n",
    "Celem pierwszego etapu prac jest zapoznanie się z podstawową siecią rekurencyjną LSTM. Ze względu na fakt, że model ten będzie wykorzystany do analizy emocji tekstu, w ramach teorii do zadania zostanie omówiony podstawowy mechanizm konwersji słów w tekście do postaci wektorów dystrybucyjnych (tzw. word embeddings) na podstawie rozwiązania o nazwie `fastText`. Modele będą budowane na ogólnodostępnym zbiorze `TweetEval`, zawierającym podzbiory ręcznie anotowanych tweetów przy pomocy etykiet odnoszących się do następujących zjawisk: 1) emocje (emotion), 2) emotikony (emoji), 3) ironia (irony), 4) mowa nienawiści (hate speech), 5) mowa ofensywna (offensive language), 6) wydźwięk (sentiment), 7) nastawienie (stance). \n",
    "\n",
    "# Warunki zaliczenia\n",
    "\n",
    "Do zaliczenia pierwszego etapu należy utworzyć następujące modele dla min. 2 wybranych zjawisk:\n",
    "\n",
    "1.   Model bazowy (regresja logistyczna).\n",
    "2.   Model rekurencyjny oparty o sieć LSTM.\n",
    "\n",
    "Wytrenowane modele będą wykorzystane w 2 etapie, dlatego proszę je zachować.\n",
    "\n",
    "# Wektory dystrybucyjne\n",
    "\n",
    "W przetwarzaniu języka naturalnego, o wektorach dystrybucyjnych (inaczej osadzeniach lub zanurzeniach, ang. word embeddings) mówi się w kontekście reprezentacji słów w tekście, zazwyczaj w postaci wektora liczb rzeczywistych, który koduje znaczenie słowa. Hipoteza dystrybucyjna, u podstawy której leży większość metod reprezentacji, mówi o tym, że słowa, które często współwystępują, mają podobne znaczenie. Wektory dystrybucyjne można uzyskać za pomocą zestawu technik modelowania języka, w których słowa lub frazy są mapowane do wektorów liczb rzeczywistych. Z reguły polega to na matematycznym zanurzeniu z przestrzeni o wielu wymiarach opisujących słowo (konteksty) do ciągłej przestrzeni wektorowej o znacznie mniejszym wymiarze.\n",
    "\n",
    "Metody generowania tego odwzorowania obejmują sieci neuronowe, redukcję wymiarowości na macierzy współwystępowania słów, modele probabilistyczne lub jawną reprezentację w kontekście, w którym pojawiają się słowa. Wektory dystrybucyjne, używane jako podstawowa reprezentacja wejściowa tekstu, okazały się istotnie poprawiać jakość w wielu zadaniach NLP, takich jak np. rozpoznawanie nazw własnych, określanie części mowy, rozpoznawanie dziedziny tekstu, czy też rozpoznawanie wydźwięku i emocji w tekście. \n",
    "\n",
    "# fastText\n",
    "\n",
    "[fastText](https://fasttext.cc/) jest biblioteką do efektywnego uczenia modeli reprezentacji wektorowych słów oraz do budowania klasyfikatorów tekstu. Modele językowe można budować z wykorzystaniem dwóch popularnych technik: [Continuous Bag of Words](https://www.kdnuggets.com/2018/04/implementing-deep-learning-methods-feature-engineering-text-data-cbow.html) oraz [Skip-Gram](https://towardsdatascience.com/skip-gram-nlp-context-words-prediction-algorithm-5bbf34f84e0c). \n",
    "\n",
    "## Instalacja\n",
    "\n",
    "Pobranie repozytorium projektu:\n"
   ]
  },
  {
   "cell_type": "code",
   "execution_count": 1,
   "metadata": {
    "ExecuteTime": {
     "end_time": "2024-05-28T11:25:33.035607Z",
     "start_time": "2024-05-28T11:25:32.968067Z"
    },
    "colab": {
     "base_uri": "https://localhost:8080/"
    },
    "executionInfo": {
     "elapsed": 3153,
     "status": "ok",
     "timestamp": 1619528698259,
     "user": {
      "displayName": "Jan Kocoń",
      "photoUrl": "",
      "userId": "12977978142372414049"
     },
     "user_tz": -120
    },
    "id": "0UkMDUx6bn6e",
    "outputId": "eecff8d4-9a14-4409-f9c3-c66197d9ce6d"
   },
   "outputs": [
    {
     "name": "stderr",
     "output_type": "stream",
     "text": [
      "fatal: destination path 'fastText' already exists and is not an empty directory.\n"
     ]
    }
   ],
   "source": [
    "!git clone https://github.com/facebookresearch/fastText.git"
   ]
  },
  {
   "cell_type": "markdown",
   "metadata": {
    "id": "4JWc5Ie0cvYo"
   },
   "source": [
    "Instalacja biblioteki:"
   ]
  },
  {
   "cell_type": "code",
   "execution_count": 2,
   "metadata": {
    "ExecuteTime": {
     "end_time": "2024-05-28T11:25:36.734393Z",
     "start_time": "2024-05-28T11:25:36.686299Z"
    },
    "colab": {
     "base_uri": "https://localhost:8080/"
    },
    "executionInfo": {
     "elapsed": 59303,
     "status": "ok",
     "timestamp": 1619528916436,
     "user": {
      "displayName": "Jan Kocoń",
      "photoUrl": "",
      "userId": "12977978142372414049"
     },
     "user_tz": -120
    },
    "id": "ku0F_kKMbteg",
    "outputId": "f91d142f-9836-40d7-ef9e-d1727e8ff93e"
   },
   "outputs": [
    {
     "name": "stderr",
     "output_type": "stream",
     "text": [
      "A subdirectory or file build already exists.\n"
     ]
    }
   ],
   "source": [
    "!cd fastText && mkdir build && cd build && cmake ..  && make && make install"
   ]
  },
  {
   "cell_type": "markdown",
   "metadata": {
    "id": "7ApV6Bzwc1_R"
   },
   "source": [
    "Instalacja API do Pythona:"
   ]
  },
  {
   "cell_type": "code",
   "execution_count": 41,
   "metadata": {
    "ExecuteTime": {
     "end_time": "2024-05-28T11:25:54.182577Z",
     "start_time": "2024-05-28T11:25:38.919693Z"
    },
    "colab": {
     "base_uri": "https://localhost:8080/"
    },
    "executionInfo": {
     "elapsed": 49798,
     "status": "ok",
     "timestamp": 1619529094503,
     "user": {
      "displayName": "Jan Kocoń",
      "photoUrl": "",
      "userId": "12977978142372414049"
     },
     "user_tz": -120
    },
    "id": "xElxRxJycnDA",
    "outputId": "ee6668e8-b6c0-40be-d8b4-04d189c058e2"
   },
   "outputs": [
    {
     "name": "stdout",
     "output_type": "stream",
     "text": [
      "Processing d:\\pwr\\deep-neural-networks\\fasttext\n",
      "  Installing build dependencies: started\n",
      "  Installing build dependencies: finished with status 'done'\n",
      "  Getting requirements to build wheel: started\n",
      "  Getting requirements to build wheel: finished with status 'done'\n",
      "  Preparing metadata (pyproject.toml): started\n",
      "  Preparing metadata (pyproject.toml): finished with status 'done'\n",
      "Collecting pybind11>=2.2 (from fasttext==0.9.2)\n",
      "  Using cached pybind11-2.12.0-py3-none-any.whl.metadata (9.5 kB)\n",
      "Requirement already satisfied: setuptools>=0.7.0 in c:\\users\\konrad\\anaconda3\\lib\\site-packages (from fasttext==0.9.2) (68.2.2)\n",
      "Requirement already satisfied: numpy in c:\\users\\konrad\\anaconda3\\lib\\site-packages (from fasttext==0.9.2) (1.26.4)\n",
      "Using cached pybind11-2.12.0-py3-none-any.whl (234 kB)\n",
      "Building wheels for collected packages: fasttext\n",
      "  Building wheel for fasttext (pyproject.toml): started\n",
      "  Building wheel for fasttext (pyproject.toml): finished with status 'error'\n",
      "Failed to build fasttext\n"
     ]
    },
    {
     "name": "stderr",
     "output_type": "stream",
     "text": [
      "  error: subprocess-exited-with-error\n",
      "  \n",
      "  × Building wheel for fasttext (pyproject.toml) did not run successfully.\n",
      "  │ exit code: 1\n",
      "  ╰─> [114 lines of output]\n",
      "      C:\\Users\\Konrad\\AppData\\Local\\Temp\\pip-build-env-5sjsrdy8\\overlay\\Lib\\site-packages\\setuptools\\dist.py:476: SetuptoolsDeprecationWarning: Invalid dash-separated options\n",
      "      !!\n",
      "      \n",
      "              ********************************************************************************\n",
      "              Usage of dash-separated 'description-file' will not be supported in future\n",
      "              versions. Please use the underscore name 'description_file' instead.\n",
      "      \n",
      "              By 2024-Sep-26, you need to update your project and remove deprecated calls\n",
      "              or your builds will no longer be supported.\n",
      "      \n",
      "              See https://setuptools.pypa.io/en/latest/userguide/declarative_config.html for details.\n",
      "              ********************************************************************************\n",
      "      \n",
      "      !!\n",
      "        opt = self.warn_dash_deprecation(opt, section)\n",
      "      running bdist_wheel\n",
      "      running build\n",
      "      running build_py\n",
      "      copying python\\fasttext_module\\fasttext\\FastText.py -> build\\lib.win-amd64-cpython-311\\fasttext\n",
      "      copying python\\fasttext_module\\fasttext\\__init__.py -> build\\lib.win-amd64-cpython-311\\fasttext\n",
      "      copying python\\fasttext_module\\fasttext\\util\\util.py -> build\\lib.win-amd64-cpython-311\\fasttext\\util\n",
      "      copying python\\fasttext_module\\fasttext\\util\\__init__.py -> build\\lib.win-amd64-cpython-311\\fasttext\\util\n",
      "      copying python\\fasttext_module\\fasttext\\tests\\test_configurations.py -> build\\lib.win-amd64-cpython-311\\fasttext\\tests\n",
      "      copying python\\fasttext_module\\fasttext\\tests\\test_script.py -> build\\lib.win-amd64-cpython-311\\fasttext\\tests\n",
      "      copying python\\fasttext_module\\fasttext\\tests\\__init__.py -> build\\lib.win-amd64-cpython-311\\fasttext\\tests\n",
      "      running build_ext\n",
      "      building 'fasttext_pybind' extension\n",
      "      \"C:\\Program Files (x86)\\Microsoft Visual Studio\\2022\\BuildTools\\VC\\Tools\\MSVC\\14.39.33519\\bin\\HostX86\\x64\\cl.exe\" /c /nologo /O2 /W3 /GL /DNDEBUG /MD -IC:\\Users\\Konrad\\AppData\\Local\\Temp\\pip-build-env-5sjsrdy8\\overlay\\Lib\\site-packages\\pybind11\\include -IC:\\Users\\Konrad\\AppData\\Local\\Temp\\pip-build-env-5sjsrdy8\\overlay\\Lib\\site-packages\\pybind11\\include -Isrc -IC:\\Users\\Konrad\\anaconda3\\include -IC:\\Users\\Konrad\\anaconda3\\Include \"-IC:\\Program Files (x86)\\Microsoft Visual Studio\\2022\\BuildTools\\VC\\Tools\\MSVC\\14.39.33519\\include\" \"-IC:\\Program Files (x86)\\Microsoft Visual Studio\\2022\\BuildTools\\VC\\Auxiliary\\VS\\include\" \"-IC:\\Program Files (x86)\\Windows Kits\\10\\include\\10.0.22621.0\\ucrt\" \"-IC:\\Program Files (x86)\\Windows Kits\\10\\\\include\\10.0.22621.0\\\\um\" \"-IC:\\Program Files (x86)\\Windows Kits\\10\\\\include\\10.0.22621.0\\\\shared\" \"-IC:\\Program Files (x86)\\Windows Kits\\10\\\\include\\10.0.22621.0\\\\winrt\" \"-IC:\\Program Files (x86)\\Windows Kits\\10\\\\include\\10.0.22621.0\\\\cppwinrt\" /EHsc /Tppython/fasttext_module/fasttext/pybind/fasttext_pybind.cc /Fobuild\\temp.win-amd64-cpython-311\\Release\\python/fasttext_module/fasttext/pybind/fasttext_pybind.obj /EHsc /DVERSION_INFO=\\\\\\\"0.9.2\\\\\\\"\n",
      "      fasttext_pybind.cc\n",
      "      C:\\Program Files (x86)\\Microsoft Visual Studio\\2022\\BuildTools\\VC\\Tools\\MSVC\\14.39.33519\\include\\string_view(12): warning STL4038: The contents of <string_view> are available only with C++17 or later.\n",
      "      D:\\pwr\\deep-neural-networks\\fastText\\src\\dictionary.h(40): error C2039: 'string_view': is not a member of 'std'\n",
      "      C:\\Program Files (x86)\\Microsoft Visual Studio\\2022\\BuildTools\\VC\\Tools\\MSVC\\14.39.33519\\include\\unordered_map(23): note: see declaration of 'std'\n",
      "      D:\\pwr\\deep-neural-networks\\fastText\\src\\dictionary.h(40): error C4430: missing type specifier - int assumed. Note: C++ does not support default-int\n",
      "      D:\\pwr\\deep-neural-networks\\fastText\\src\\dictionary.h(41): error C2039: 'string_view': is not a member of 'std'\n",
      "      C:\\Program Files (x86)\\Microsoft Visual Studio\\2022\\BuildTools\\VC\\Tools\\MSVC\\14.39.33519\\include\\unordered_map(23): note: see declaration of 'std'\n",
      "      D:\\pwr\\deep-neural-networks\\fastText\\src\\dictionary.h(41): error C4430: missing type specifier - int assumed. Note: C++ does not support default-int\n",
      "      D:\\pwr\\deep-neural-networks\\fastText\\src\\dictionary.h(46): error C2039: 'string_view': is not a member of 'std'\n",
      "      C:\\Program Files (x86)\\Microsoft Visual Studio\\2022\\BuildTools\\VC\\Tools\\MSVC\\14.39.33519\\include\\unordered_map(23): note: see declaration of 'std'\n",
      "      D:\\pwr\\deep-neural-networks\\fastText\\src\\dictionary.h(46): error C4430: missing type specifier - int assumed. Note: C++ does not support default-int\n",
      "      D:\\pwr\\deep-neural-networks\\fastText\\src\\dictionary.h(75): error C2039: 'string_view': is not a member of 'std'\n",
      "      C:\\Program Files (x86)\\Microsoft Visual Studio\\2022\\BuildTools\\VC\\Tools\\MSVC\\14.39.33519\\include\\unordered_map(23): note: see declaration of 'std'\n",
      "      D:\\pwr\\deep-neural-networks\\fastText\\src\\dictionary.h(75): error C4430: missing type specifier - int assumed. Note: C++ does not support default-int\n",
      "      D:\\pwr\\deep-neural-networks\\fastText\\src\\dictionary.h(76): error C2039: 'string_view': is not a member of 'std'\n",
      "      C:\\Program Files (x86)\\Microsoft Visual Studio\\2022\\BuildTools\\VC\\Tools\\MSVC\\14.39.33519\\include\\unordered_map(23): note: see declaration of 'std'\n",
      "      D:\\pwr\\deep-neural-networks\\fastText\\src\\dictionary.h(76): error C4430: missing type specifier - int assumed. Note: C++ does not support default-int\n",
      "      D:\\pwr\\deep-neural-networks\\fastText\\src\\dictionary.h(78): error C2039: 'string_view': is not a member of 'std'\n",
      "      C:\\Program Files (x86)\\Microsoft Visual Studio\\2022\\BuildTools\\VC\\Tools\\MSVC\\14.39.33519\\include\\unordered_map(23): note: see declaration of 'std'\n",
      "      D:\\pwr\\deep-neural-networks\\fastText\\src\\dictionary.h(78): error C4430: missing type specifier - int assumed. Note: C++ does not support default-int\n",
      "      D:\\pwr\\deep-neural-networks\\fastText\\src\\dictionary.h(78): error C2535: 'fasttext::entry_type fasttext::Dictionary::getType(int32_t) const': member function already defined or declared\n",
      "      D:\\pwr\\deep-neural-networks\\fastText\\src\\dictionary.h(77): note: see declaration of 'fasttext::Dictionary::getType'\n",
      "      D:\\pwr\\deep-neural-networks\\fastText\\src\\dictionary.h(91): error C2039: 'string_view': is not a member of 'std'\n",
      "      C:\\Program Files (x86)\\Microsoft Visual Studio\\2022\\BuildTools\\VC\\Tools\\MSVC\\14.39.33519\\include\\unordered_map(23): note: see declaration of 'std'\n",
      "      D:\\pwr\\deep-neural-networks\\fastText\\src\\dictionary.h(91): error C4430: missing type specifier - int assumed. Note: C++ does not support default-int\n",
      "      D:\\pwr\\deep-neural-networks\\fastText\\src\\dictionary.h(91): error C2146: syntax error: missing ')' before identifier 'str'\n",
      "      D:\\pwr\\deep-neural-networks\\fastText\\src\\dictionary.h(91): error C3646: 'str': unknown override specifier\n",
      "      D:\\pwr\\deep-neural-networks\\fastText\\src\\dictionary.h(91): error C2059: syntax error: ')'\n",
      "      D:\\pwr\\deep-neural-networks\\fastText\\src\\dictionary.h(91): error C2143: syntax error: missing ';' before 'const'\n",
      "      D:\\pwr\\deep-neural-networks\\fastText\\src\\dictionary.h(91): error C4430: missing type specifier - int assumed. Note: C++ does not support default-int\n",
      "      D:\\pwr\\deep-neural-networks\\fastText\\src\\dictionary.h(91): error C2208: 'const int': no members defined using this type\n",
      "      D:\\pwr\\deep-neural-networks\\fastText\\src\\dictionary.h(91): warning C4091: ' ': ignored on left of 'const int' when no variable is declared\n",
      "      D:\\pwr\\deep-neural-networks\\fastText\\src\\dictionary.h(103): error C2039: 'string_view': is not a member of 'std'\n",
      "      C:\\Program Files (x86)\\Microsoft Visual Studio\\2022\\BuildTools\\VC\\Tools\\MSVC\\14.39.33519\\include\\unordered_map(23): note: see declaration of 'std'\n",
      "      D:\\pwr\\deep-neural-networks\\fastText\\src\\dictionary.h(103): error C2061: syntax error: identifier 'string_view'\n",
      "      python/fasttext_module/fasttext/pybind/fasttext_pybind.cc(71): error C2662: 'uint32_t fasttext::Dictionary::hash(const int)': cannot convert 'this' pointer from '_Ty2' to 'fasttext::Dictionary &'\n",
      "              with\n",
      "              [\n",
      "                  _Ty2=const fasttext::Dictionary\n",
      "              ]\n",
      "      python/fasttext_module/fasttext/pybind/fasttext_pybind.cc(71): note: Conversion loses qualifiers\n",
      "      D:\\pwr\\deep-neural-networks\\fastText\\src\\dictionary.h(91): note: see declaration of 'fasttext::Dictionary::hash'\n",
      "      python/fasttext_module/fasttext/pybind/fasttext_pybind.cc(71): note: while trying to match the argument list '(std::string)'\n",
      "      python/fasttext_module/fasttext/pybind/fasttext_pybind.cc(72): error C2665: 'fasttext::Dictionary::getId': no overloaded function could convert all the argument types\n",
      "      D:\\pwr\\deep-neural-networks\\fastText\\src\\dictionary.h(76): note: could be 'int32_t fasttext::Dictionary::getId(const int,uint32_t) const'\n",
      "      python/fasttext_module/fasttext/pybind/fasttext_pybind.cc(72): note: 'int32_t fasttext::Dictionary::getId(const int,uint32_t) const': cannot convert argument 1 from 'std::string' to 'const int'\n",
      "      python/fasttext_module/fasttext/pybind/fasttext_pybind.cc(72): note: No user-defined-conversion operator available that can perform this conversion, or the operator cannot be called\n",
      "      python/fasttext_module/fasttext/pybind/fasttext_pybind.cc(72): note: while trying to match the argument list '(std::string, uint32_t)'\n",
      "      python/fasttext_module/fasttext/pybind/fasttext_pybind.cc(73): error C2664: 'fasttext::entry_type fasttext::Dictionary::getType(int32_t) const': cannot convert argument 1 from 'std::string' to 'int32_t'\n",
      "      python/fasttext_module/fasttext/pybind/fasttext_pybind.cc(73): note: No user-defined-conversion operator available that can perform this conversion, or the operator cannot be called\n",
      "      D:\\pwr\\deep-neural-networks\\fastText\\src\\dictionary.h(77): note: see declaration of 'fasttext::Dictionary::getType'\n",
      "      python/fasttext_module/fasttext/pybind/fasttext_pybind.cc(73): note: while trying to match the argument list '(std::string)'\n",
      "      python/fasttext_module/fasttext/pybind/fasttext_pybind.cc(172): error C2065: 'ssize_t': undeclared identifier\n",
      "      python/fasttext_module/fasttext/pybind/fasttext_pybind.cc(172): error C2672: 'pybind11::init': no matching overloaded function found\n",
      "      C:\\Users\\Konrad\\AppData\\Local\\Temp\\pip-build-env-5sjsrdy8\\overlay\\Lib\\site-packages\\pybind11\\include\\pybind11\\pybind11.h(1991): note: could be 'Ret pybind11::init(CFunc &&,AFunc &&)'\n",
      "      python/fasttext_module/fasttext/pybind/fasttext_pybind.cc(172): note: 'pybind11::init': invalid template argument for 'CFunc', type expected\n",
      "      C:\\Users\\Konrad\\AppData\\Local\\Temp\\pip-build-env-5sjsrdy8\\overlay\\Lib\\site-packages\\pybind11\\include\\pybind11\\pybind11.h(1983): note: or       'Ret pybind11::init(Func &&)'\n",
      "      python/fasttext_module/fasttext/pybind/fasttext_pybind.cc(172): note: 'pybind11::init': invalid template argument for 'Func', type expected\n",
      "      C:\\Users\\Konrad\\AppData\\Local\\Temp\\pip-build-env-5sjsrdy8\\overlay\\Lib\\site-packages\\pybind11\\include\\pybind11\\pybind11.h(1971): note: or       'pybind11::detail::initimpl::constructor<Args...> pybind11::init(void)'\n",
      "      python/fasttext_module/fasttext/pybind/fasttext_pybind.cc(172): note: 'pybind11::init': invalid template argument for 'Args', type expected\n",
      "      python/fasttext_module/fasttext/pybind/fasttext_pybind.cc(172): error C2672: 'pybind11::class_<fasttext::Vector>::def': no matching overloaded function found\n",
      "      C:\\Users\\Konrad\\AppData\\Local\\Temp\\pip-build-env-5sjsrdy8\\overlay\\Lib\\site-packages\\pybind11\\include\\pybind11\\pybind11.h(1690): note: could be 'pybind11::class_<fasttext::Vector> &pybind11::class_<fasttext::Vector>::def(pybind11::detail::initimpl::pickle_factory<Args...> &&,const Extra &...)'\n",
      "      C:\\Users\\Konrad\\AppData\\Local\\Temp\\pip-build-env-5sjsrdy8\\overlay\\Lib\\site-packages\\pybind11\\include\\pybind11\\pybind11.h(1684): note: or       'pybind11::class_<fasttext::Vector> &pybind11::class_<fasttext::Vector>::def(pybind11::detail::initimpl::factory<Args...> &&,const Extra &...)'\n",
      "      C:\\Users\\Konrad\\AppData\\Local\\Temp\\pip-build-env-5sjsrdy8\\overlay\\Lib\\site-packages\\pybind11\\include\\pybind11\\pybind11.h(1677): note: or       'pybind11::class_<fasttext::Vector> &pybind11::class_<fasttext::Vector>::def(const pybind11::detail::initimpl::alias_constructor<Args...> &,const Extra &...)'\n",
      "      C:\\Users\\Konrad\\AppData\\Local\\Temp\\pip-build-env-5sjsrdy8\\overlay\\Lib\\site-packages\\pybind11\\include\\pybind11\\pybind11.h(1670): note: or       'pybind11::class_<fasttext::Vector> &pybind11::class_<fasttext::Vector>::def(const pybind11::detail::initimpl::constructor<Args...> &,const Extra &...)'\n",
      "      C:\\Users\\Konrad\\AppData\\Local\\Temp\\pip-build-env-5sjsrdy8\\overlay\\Lib\\site-packages\\pybind11\\include\\pybind11\\pybind11.h(1658): note: or       'pybind11::class_<fasttext::Vector> &pybind11::class_<fasttext::Vector>::def(const T &,const Extra &...)'\n",
      "      C:\\Users\\Konrad\\AppData\\Local\\Temp\\pip-build-env-5sjsrdy8\\overlay\\Lib\\site-packages\\pybind11\\include\\pybind11\\pybind11.h(1633): note: or       'pybind11::class_<fasttext::Vector> &pybind11::class_<fasttext::Vector>::def(const char *,Func &&,const Extra &...)'\n",
      "      python/fasttext_module/fasttext/pybind/fasttext_pybind.cc(172): note: 'pybind11::class_<fasttext::Vector> &pybind11::class_<fasttext::Vector>::def(const char *,Func &&,const Extra &...)': expects 3 arguments - 1 provided\n",
      "      python/fasttext_module/fasttext/pybind/fasttext_pybind.cc(186): error C2065: 'ssize_t': undeclared identifier\n",
      "      python/fasttext_module/fasttext/pybind/fasttext_pybind.cc(186): error C2065: 'ssize_t': undeclared identifier\n",
      "      python/fasttext_module/fasttext/pybind/fasttext_pybind.cc(186): error C2672: 'pybind11::init': no matching overloaded function found\n",
      "      C:\\Users\\Konrad\\AppData\\Local\\Temp\\pip-build-env-5sjsrdy8\\overlay\\Lib\\site-packages\\pybind11\\include\\pybind11\\pybind11.h(1991): note: could be 'Ret pybind11::init(CFunc &&,AFunc &&)'\n",
      "      python/fasttext_module/fasttext/pybind/fasttext_pybind.cc(186): note: 'pybind11::init': invalid template argument for 'CFunc', type expected\n",
      "      C:\\Users\\Konrad\\AppData\\Local\\Temp\\pip-build-env-5sjsrdy8\\overlay\\Lib\\site-packages\\pybind11\\include\\pybind11\\pybind11.h(1983): note: or       'Ret pybind11::init(Func &&)'\n",
      "      python/fasttext_module/fasttext/pybind/fasttext_pybind.cc(186): note: 'pybind11::init': invalid template argument for 'Func', type expected\n",
      "      C:\\Users\\Konrad\\AppData\\Local\\Temp\\pip-build-env-5sjsrdy8\\overlay\\Lib\\site-packages\\pybind11\\include\\pybind11\\pybind11.h(1971): note: or       'pybind11::detail::initimpl::constructor<Args...> pybind11::init(void)'\n",
      "      python/fasttext_module/fasttext/pybind/fasttext_pybind.cc(186): note: 'pybind11::init': invalid template argument for 'Args', type expected\n",
      "      python/fasttext_module/fasttext/pybind/fasttext_pybind.cc(186): error C2672: 'pybind11::class_<fasttext::DenseMatrix>::def': no matching overloaded function found\n",
      "      C:\\Users\\Konrad\\AppData\\Local\\Temp\\pip-build-env-5sjsrdy8\\overlay\\Lib\\site-packages\\pybind11\\include\\pybind11\\pybind11.h(1690): note: could be 'pybind11::class_<fasttext::DenseMatrix> &pybind11::class_<fasttext::DenseMatrix>::def(pybind11::detail::initimpl::pickle_factory<Args...> &&,const Extra &...)'\n",
      "      C:\\Users\\Konrad\\AppData\\Local\\Temp\\pip-build-env-5sjsrdy8\\overlay\\Lib\\site-packages\\pybind11\\include\\pybind11\\pybind11.h(1684): note: or       'pybind11::class_<fasttext::DenseMatrix> &pybind11::class_<fasttext::DenseMatrix>::def(pybind11::detail::initimpl::factory<Args...> &&,const Extra &...)'\n",
      "      C:\\Users\\Konrad\\AppData\\Local\\Temp\\pip-build-env-5sjsrdy8\\overlay\\Lib\\site-packages\\pybind11\\include\\pybind11\\pybind11.h(1677): note: or       'pybind11::class_<fasttext::DenseMatrix> &pybind11::class_<fasttext::DenseMatrix>::def(const pybind11::detail::initimpl::alias_constructor<Args...> &,const Extra &...)'\n",
      "      C:\\Users\\Konrad\\AppData\\Local\\Temp\\pip-build-env-5sjsrdy8\\overlay\\Lib\\site-packages\\pybind11\\include\\pybind11\\pybind11.h(1670): note: or       'pybind11::class_<fasttext::DenseMatrix> &pybind11::class_<fasttext::DenseMatrix>::def(const pybind11::detail::initimpl::constructor<Args...> &,const Extra &...)'\n",
      "      C:\\Users\\Konrad\\AppData\\Local\\Temp\\pip-build-env-5sjsrdy8\\overlay\\Lib\\site-packages\\pybind11\\include\\pybind11\\pybind11.h(1658): note: or       'pybind11::class_<fasttext::DenseMatrix> &pybind11::class_<fasttext::DenseMatrix>::def(const T &,const Extra &...)'\n",
      "      C:\\Users\\Konrad\\AppData\\Local\\Temp\\pip-build-env-5sjsrdy8\\overlay\\Lib\\site-packages\\pybind11\\include\\pybind11\\pybind11.h(1633): note: or       'pybind11::class_<fasttext::DenseMatrix> &pybind11::class_<fasttext::DenseMatrix>::def(const char *,Func &&,const Extra &...)'\n",
      "      python/fasttext_module/fasttext/pybind/fasttext_pybind.cc(186): note: 'pybind11::class_<fasttext::DenseMatrix> &pybind11::class_<fasttext::DenseMatrix>::def(const char *,Func &&,const Extra &...)': expects 3 arguments - 1 provided\n",
      "      error: command 'C:\\\\Program Files (x86)\\\\Microsoft Visual Studio\\\\2022\\\\BuildTools\\\\VC\\\\Tools\\\\MSVC\\\\14.39.33519\\\\bin\\\\HostX86\\\\x64\\\\cl.exe' failed with exit code 2\n",
      "      [end of output]\n",
      "  \n",
      "  note: This error originates from a subprocess, and is likely not a problem with pip.\n",
      "  ERROR: Failed building wheel for fasttext\n",
      "ERROR: Could not build wheels for fasttext, which is required to install pyproject.toml-based projects\n"
     ]
    }
   ],
   "source": [
    "!cd fastText && pip3 install ."
   ]
  },
  {
   "cell_type": "markdown",
   "metadata": {
    "id": "7ceW8c2XdOf4"
   },
   "source": [
    "# Dane do etapu nr 1\n",
    "\n",
    "## Korpus \n",
    "Korpus (zbiór dokumentów) do realizacji etapu nr 1 pochodzi z repozytorium [TweetEval](https://github.com/cardiffnlp/tweeteval). Repozytorium zawiera 7 różnorodnych zbiorów danych, zawierających zanonimizowane wpisy z [Twittera](https://twitter.com), anotowane następującymi zjawiskami: 1) emocje (emotion), 2) emotikony (emoji), 3) ironia (irony), 4) mowa nienawiści (hate speech), 5) mowa ofensywna (offensive language), 6) wydźwięk (sentiment), 7) nastawienie (stance). "
   ]
  },
  {
   "cell_type": "code",
   "execution_count": 4,
   "metadata": {
    "ExecuteTime": {
     "end_time": "2024-05-28T11:26:01.734107Z",
     "start_time": "2024-05-28T11:26:01.730587Z"
    },
    "id": "ER8c8zNmgE40"
   },
   "outputs": [],
   "source": [
    "# należy wgrać plik z katalogu \"dane\" o nazwie tweeteval.7z"
   ]
  },
  {
   "cell_type": "code",
   "execution_count": 5,
   "metadata": {
    "ExecuteTime": {
     "end_time": "2024-05-28T11:26:03.028054Z",
     "start_time": "2024-05-28T11:26:02.998822Z"
    },
    "colab": {
     "base_uri": "https://localhost:8080/"
    },
    "executionInfo": {
     "elapsed": 1776,
     "status": "ok",
     "timestamp": 1619529928557,
     "user": {
      "displayName": "Jan Kocoń",
      "photoUrl": "",
      "userId": "12977978142372414049"
     },
     "user_tz": -120
    },
    "id": "qS6VxC26gUNt",
    "outputId": "9bf16419-9508-4cd9-d46a-6884ae6f3bd8"
   },
   "outputs": [
    {
     "name": "stderr",
     "output_type": "stream",
     "text": [
      "'7za' is not recognized as an internal or external command,\n",
      "operable program or batch file.\n"
     ]
    }
   ],
   "source": [
    "!7za x tweeteval.7z"
   ]
  },
  {
   "cell_type": "markdown",
   "metadata": {
    "id": "Kb6c5nuvgiaF"
   },
   "source": [
    "## Zawartość korpusu\n",
    "\n",
    "W katalogu głównym (tweeteval) znajdują się następujące elementy:\n",
    "*   `datasets` - katalog ze zbiorami danych\n",
    "   * `emotion` - tweety anotowane emocjami \n",
    "     * `mapping.txt` - identyfikatory etykiet oraz ich opis\n",
    "     * `train_text.txt` - wpisy z Twittera (część ucząca)\n",
    "     * `train_labels.txt` - etykiety wpisów z Twittera (część ucząca)\n",
    "     * `test_*.txt, valid_*.txt` - j.w. (część testowa i walidacyjna)\n",
    "   * `emoji` - tweety anotowane emotikonami\n",
    "   * `...` - katalogi zawierające tweety anotowane pozostałymi zjawiskami\n",
    "*   `predictions` - katalog z przykładowymi predykcjami\n",
    "   * `emotion.txt` - etykiety modelu predykcyjnego dla części testowej danych `emotion`\n",
    "   * `emoji.txt` - j.w. dla cz. testowej danych `emoji`\n",
    "   * `...` - j.w. dla pozostałych danych\n",
    "*   `evaluation_script.py` - skrypt do ewaluacji \n",
    "\n",
    "## Model języka\n",
    "\n",
    "Na potrzeby zadania został przygotowany model Skip-Gram reprezentacji wektorowej słów, zbudowany na wielkim korpusie tweetów dotyczących kursu BTC. Wersja binarna tego modelu dostępna jest w 2 wariantach:\n",
    "* wektory 100-elementowe (1.7GB, fasttext_tweetmodel_btc_sg_100_en.bin)\n",
    "* wektory 20-elementowe (350MB, fasttext_tweetmodel_btc_sg_20_en.bin)\n",
    "\n",
    "Na potrzeby prezentacji przykładowego rozwiązania zostanie wykorzystany mniejszy model. Do realizacji ostatecznego rozwiązania należy wykorzystać większy model. \n",
    "\n"
   ]
  },
  {
   "cell_type": "markdown",
   "metadata": {
    "id": "stk-sYt9o6sD"
   },
   "source": [
    "# Model bazowy rozpoznawania emocji\n",
    "\n",
    "Model bazowy, zbudowany z wykorzystaniem narzędzia fastText (oparty o regresję logistyczną), będzie punktem wyjścia do porównania się z modelami opartymi o sieci LSTM, których skonstruowanie i ewaluacja na wybranych zadaniach będzie celem etapu nr 1. \n",
    "\n",
    "Pobranie mniejszego modelu reprezentacji języka tweetów:\n"
   ]
  },
  {
   "cell_type": "code",
   "execution_count": 6,
   "metadata": {
    "ExecuteTime": {
     "end_time": "2024-05-28T11:49:22.848475Z",
     "start_time": "2024-05-28T11:49:22.845219Z"
    },
    "id": "ChAehfcHggvF"
   },
   "outputs": [],
   "source": [
    "# należy wgrać plik z katalogu \"dane\" o nazwie fasttext_tweetmodel_btc_sg_20_en.bin"
   ]
  },
  {
   "cell_type": "markdown",
   "metadata": {
    "id": "NkacglPdr96Y"
   },
   "source": [
    "Wydobycie słownika wektorów z binarnego modelu języka:"
   ]
  },
  {
   "cell_type": "code",
   "execution_count": 39,
   "metadata": {
    "ExecuteTime": {
     "end_time": "2024-05-28T11:49:37.675490Z",
     "start_time": "2024-05-28T11:49:37.582509Z"
    },
    "id": "CHyqkncyrZru"
   },
   "outputs": [
    {
     "name": "stderr",
     "output_type": "stream",
     "text": [
      "Traceback (most recent call last):\n",
      "  File \"d:\\pwr\\deep-neural-networks\\fastText\\python\\doc\\examples\\bin_to_vec.py\", line 15, in <module>\n",
      "    from fasttext import load_model\n",
      "ModuleNotFoundError: No module named 'fasttext'\n"
     ]
    }
   ],
   "source": [
    "!python fastText/python/doc/examples/bin_to_vec.py fasttext_tweetmodel_btc_sg_20_en.bin > fasttext_tweetmodel_btc_sg_20_en.vec"
   ]
  },
  {
   "cell_type": "markdown",
   "metadata": {
    "id": "_E_5UDKYyzwp"
   },
   "source": [
    "Dodanie prefiksu `__label__` do etykiet zbioru `emotion`:"
   ]
  },
  {
   "cell_type": "code",
   "execution_count": 13,
   "metadata": {
    "id": "OjUQvyKIsKV8"
   },
   "outputs": [
    {
     "name": "stderr",
     "output_type": "stream",
     "text": [
      "'sed' is not recognized as an internal or external command,\n",
      "operable program or batch file.\n",
      "'sed' is not recognized as an internal or external command,\n",
      "operable program or batch file.\n",
      "'sed' is not recognized as an internal or external command,\n",
      "operable program or batch file.\n"
     ]
    }
   ],
   "source": [
    "!sed 's/^/__label__/g' tweeteval/datasets/emotion/train_labels.txt > train_labels_emo.txt\n",
    "!sed 's/^/__label__/g' tweeteval/datasets/emotion/test_labels.txt > test_labels_emo.txt\n",
    "!sed 's/^/__label__/g' tweeteval/datasets/emotion/val_labels.txt > val_labels_emo.txt"
   ]
  },
  {
   "cell_type": "markdown",
   "metadata": {
    "id": "IlHv_VJ5zIHw"
   },
   "source": [
    "Przygotowanie zbioru uczącego, testowego i walidacyjnego w formacie `fastText`:"
   ]
  },
  {
   "cell_type": "code",
   "execution_count": 14,
   "metadata": {
    "id": "nNdjvsT8siZ1"
   },
   "outputs": [
    {
     "name": "stderr",
     "output_type": "stream",
     "text": [
      "'paste' is not recognized as an internal or external command,\n",
      "operable program or batch file.\n",
      "'paste' is not recognized as an internal or external command,\n",
      "operable program or batch file.\n",
      "'paste' is not recognized as an internal or external command,\n",
      "operable program or batch file.\n"
     ]
    }
   ],
   "source": [
    "!paste -d \" \" tweeteval/datasets/emotion/train_text.txt train_labels_emo.txt > train_emo.txt\n",
    "!paste -d \" \" tweeteval/datasets/emotion/test_text.txt test_labels_emo.txt > test_emo.txt\n",
    "!paste -d \" \" tweeteval/datasets/emotion/val_text.txt val_labels_emo.txt > val_emo.txt"
   ]
  },
  {
   "cell_type": "markdown",
   "metadata": {
    "id": "ro5A5HAEzGNJ"
   },
   "source": [
    "Trenowanie modelu z wykorzystaniem wejścia `train_emo.txt`, z określeniem wyjściowej nazwy modelu `emo_model`, dla wektorów słów o wymiarze `20`, z wykorzystaniem pretrenowanych wektorów z pliku `fasttext_tweetmodel_btc_sg_20_en.vec` i z uruchomieniem dostrajania hiperparametrów na zbiorze walidacyjnym `val_emo.txt`:"
   ]
  },
  {
   "cell_type": "code",
   "execution_count": 15,
   "metadata": {
    "colab": {
     "base_uri": "https://localhost:8080/"
    },
    "executionInfo": {
     "elapsed": 342769,
     "status": "ok",
     "timestamp": 1619533909840,
     "user": {
      "displayName": "Jan Kocoń",
      "photoUrl": "",
      "userId": "12977978142372414049"
     },
     "user_tz": -120
    },
    "id": "GChCYj1ptoEj",
    "outputId": "6948a803-c679-484b-e6e1-62f622c38bb8"
   },
   "outputs": [
    {
     "name": "stderr",
     "output_type": "stream",
     "text": [
      "'fasttext' is not recognized as an internal or external command,\n",
      "operable program or batch file.\n"
     ]
    }
   ],
   "source": [
    "!fasttext supervised -input train_emo.txt -output emo_model -dim 20 -pretrainedVectors fasttext_tweetmodel_btc_sg_20_en.vec -autotune-validation val_emo.txt "
   ]
  },
  {
   "cell_type": "markdown",
   "metadata": {
    "id": "pkp4BDnvzxrN"
   },
   "source": [
    "Podstawowa ewaluacja modelu z wykorzystaniem `fastText`, wynikiem jest precyzja (P - precision) i kompletność (R - recall) w wariancie [weighted](https://scikit-learn.org/stable/modules/generated/sklearn.metrics.precision_recall_fscore_support.html)."
   ]
  },
  {
   "cell_type": "code",
   "execution_count": 16,
   "metadata": {
    "colab": {
     "base_uri": "https://localhost:8080/"
    },
    "executionInfo": {
     "elapsed": 3304,
     "status": "ok",
     "timestamp": 1619533952150,
     "user": {
      "displayName": "Jan Kocoń",
      "photoUrl": "",
      "userId": "12977978142372414049"
     },
     "user_tz": -120
    },
    "id": "90GbSCCgvmCj",
    "outputId": "8d6a82fa-3a33-4a4f-f5cc-fad0c8b6c82d"
   },
   "outputs": [
    {
     "name": "stderr",
     "output_type": "stream",
     "text": [
      "'fasttext' is not recognized as an internal or external command,\n",
      "operable program or batch file.\n"
     ]
    }
   ],
   "source": [
    "!fasttext test emo_model.bin test_emo.txt"
   ]
  },
  {
   "cell_type": "markdown",
   "metadata": {
    "id": "OoqaR5To0UWq"
   },
   "source": [
    "Rozszerzona ewaluacja modelu z wykorzystaniem `fastText`, wynikiem jest precyzja (P - precision), kompletność (R - recall) oraz F1-score dla każdej etykiety w wariancie [weighted](https://scikit-learn.org/stable/modules/generated/sklearn.metrics.precision_recall_fscore_support.html)."
   ]
  },
  {
   "cell_type": "code",
   "execution_count": 17,
   "metadata": {
    "colab": {
     "base_uri": "https://localhost:8080/"
    },
    "executionInfo": {
     "elapsed": 2783,
     "status": "ok",
     "timestamp": 1619534237333,
     "user": {
      "displayName": "Jan Kocoń",
      "photoUrl": "",
      "userId": "12977978142372414049"
     },
     "user_tz": -120
    },
    "id": "e3xFd-RDwv_w",
    "outputId": "1ff6b4ab-b956-49ca-cfc2-527e39933bd4"
   },
   "outputs": [
    {
     "name": "stderr",
     "output_type": "stream",
     "text": [
      "'fasttext' is not recognized as an internal or external command,\n",
      "operable program or batch file.\n"
     ]
    }
   ],
   "source": [
    "!fasttext test-label emo_model.bin test_emo.txt"
   ]
  },
  {
   "cell_type": "markdown",
   "metadata": {
    "id": "Y__FOjZO0jrw"
   },
   "source": [
    "Przygotowanie danych do ewaluacji z wykorzystaniem skryptu dołączonego do zbioru TweetEval:"
   ]
  },
  {
   "cell_type": "code",
   "execution_count": 18,
   "metadata": {
    "id": "dZyri0pVw43n"
   },
   "outputs": [],
   "source": [
    "!mkdir predictions2"
   ]
  },
  {
   "cell_type": "code",
   "execution_count": 19,
   "metadata": {
    "id": "1gMgdnILxScS"
   },
   "outputs": [
    {
     "name": "stderr",
     "output_type": "stream",
     "text": [
      "'fasttext' is not recognized as an internal or external command,\n",
      "operable program or batch file.\n"
     ]
    }
   ],
   "source": [
    "!fasttext predict emo_model.bin tweeteval/datasets/emotion/test_text.txt | sed 's/__label__//g' > predictions2/emotion.txt"
   ]
  },
  {
   "cell_type": "markdown",
   "metadata": {
    "id": "xRwh9aIx0s3I"
   },
   "source": [
    "Uruchomienie ewaluacji. Oprócz wyników P, R, F1 [weighted]((https://scikit-learn.org/stable/modules/generated/sklearn.metrics.precision_recall_fscore_support.html)) dla każdej etykiety, otrzymujemy również wyniki w wariancie [macro]((https://scikit-learn.org/stable/modules/generated/sklearn.metrics.precision_recall_fscore_support.html)). **Ostateczną miarą (TweetEval Score) jest miara F1-score w wariancie macro i tę miarę proszę traktować jako kluczową przy porównywaniu rozwiązań.**"
   ]
  },
  {
   "cell_type": "code",
   "execution_count": null,
   "metadata": {
    "colab": {
     "base_uri": "https://localhost:8080/"
    },
    "executionInfo": {
     "elapsed": 1418,
     "status": "ok",
     "timestamp": 1619534576905,
     "user": {
      "displayName": "Jan Kocoń",
      "photoUrl": "",
      "userId": "12977978142372414049"
     },
     "user_tz": -120
    },
    "id": "RpAjMNr2xn-e",
    "outputId": "7a9d4908-2440-40ae-c24f-5a6ac8d4aaaa"
   },
   "outputs": [
    {
     "name": "stdout",
     "output_type": "stream",
     "text": [
      "0 {'precision': 0.6966966966966966, 'recall': 0.8315412186379928, 'f1-score': 0.7581699346405228, 'support': 558}\n",
      "1 {'precision': 0.7239057239057239, 'recall': 0.6005586592178771, 'f1-score': 0.6564885496183206, 'support': 358}\n",
      "2 {'precision': 0.5394736842105263, 'recall': 0.3333333333333333, 'f1-score': 0.41206030150753775, 'support': 123}\n",
      "3 {'precision': 0.6780104712041884, 'recall': 0.6780104712041884, 'f1-score': 0.6780104712041884, 'support': 382}\n",
      "accuracy 0.6889514426460239\n",
      "macro avg {'precision': 0.6595216440042838, 'recall': 0.6108609205983478, 'f1-score': 0.6261823142426424, 'support': 1421}\n",
      "weighted avg {'precision': 0.6849192604313165, 'recall': 0.6889514426460239, 'f1-score': 0.6810451381971834, 'support': 1421}\n",
      "------------------------------\n",
      "TweetEval Score (emotion): 0.6261823142426424\n"
     ]
    }
   ],
   "source": [
    "!python tweeteval/evaluation_script.py --tweeteval_path tweeteval/datasets --predictions_path predictions2 --task emotion"
   ]
  },
  {
   "cell_type": "markdown",
   "metadata": {
    "id": "FV9_Gnrz2T0m"
   },
   "source": [
    "# Budowa modeli EmoTweet\n",
    "\n",
    "W tej sekcji Państwa zadaniem będzie przygotowanie modeli sieci LSTM oraz modeli bazowych opartych o regresję logistyczną (fastText) dla wybranych 2 zjawisk ze zbioru TweetEval. Dla sieci LSTM kolejne jednostki sieci rekurencyjnej na wejściu dostają reprezentację wektorową kolejnych wyrazów w tekście. Wyjście z ostatniej jednostki podlega klasyfikacji. W celu usprawnienia zadania, przedstawiona zostanie metoda reprezentacji wektorowej tekstu z wykorzystaniem Pythonowego API do narzędzia fastText. Do ewaluacji modeli należy wykorzystać uprzednio zaprezentowany skrypt `tweeteval/evaluation_script.py`.\n",
    "\n",
    "## Wektoryzacja tekstu\n"
   ]
  },
  {
   "cell_type": "code",
   "execution_count": 1,
   "metadata": {
    "ExecuteTime": {
     "end_time": "2024-05-28T14:33:01.689075Z",
     "start_time": "2024-05-28T14:33:01.596262Z"
    },
    "id": "pmdakZza43X8"
   },
   "outputs": [],
   "source": [
    "import fasttext"
   ]
  },
  {
   "cell_type": "code",
   "execution_count": 2,
   "metadata": {
    "ExecuteTime": {
     "end_time": "2024-05-28T14:33:07.958260Z",
     "start_time": "2024-05-28T14:33:02.954759Z"
    },
    "id": "DpJZYWyd6EK-"
   },
   "outputs": [],
   "source": [
    "# ładowanie modelu\n",
    "MODEL_PATH = 'fasttext_tweetmodel_btc_sg_100_en.bin'\n",
    "fasttext_model = fasttext.load_model(MODEL_PATH)"
   ]
  },
  {
   "cell_type": "code",
   "execution_count": 93,
   "metadata": {
    "ExecuteTime": {
     "end_time": "2024-05-28T14:33:08.970758Z",
     "start_time": "2024-05-28T14:33:08.943712Z"
    },
    "colab": {
     "base_uri": "https://localhost:8080/",
     "height": 419
    },
    "executionInfo": {
     "elapsed": 944,
     "status": "ok",
     "timestamp": 1619537191361,
     "user": {
      "displayName": "Jan Kocoń",
      "photoUrl": "",
      "userId": "12977978142372414049"
     },
     "user_tz": -120
    },
    "id": "yRs60cO96zk5",
    "outputId": "11c62264-8f71-4f36-9222-038482fa4184"
   },
   "outputs": [
    {
     "data": {
      "text/html": [
       "<div>\n",
       "<style scoped>\n",
       "    .dataframe tbody tr th:only-of-type {\n",
       "        vertical-align: middle;\n",
       "    }\n",
       "\n",
       "    .dataframe tbody tr th {\n",
       "        vertical-align: top;\n",
       "    }\n",
       "\n",
       "    .dataframe thead th {\n",
       "        text-align: right;\n",
       "    }\n",
       "</style>\n",
       "<table border=\"1\" class=\"dataframe\">\n",
       "  <thead>\n",
       "    <tr style=\"text-align: right;\">\n",
       "      <th></th>\n",
       "      <th>0</th>\n",
       "    </tr>\n",
       "  </thead>\n",
       "  <tbody>\n",
       "    <tr>\n",
       "      <th>0</th>\n",
       "      <td>“Worry is a down payment on a problem you may ...</td>\n",
       "    </tr>\n",
       "    <tr>\n",
       "      <th>1</th>\n",
       "      <td>My roommate: it's okay that we can't spell bec...</td>\n",
       "    </tr>\n",
       "    <tr>\n",
       "      <th>2</th>\n",
       "      <td>No but that's so cute. Atsu was probably shy a...</td>\n",
       "    </tr>\n",
       "    <tr>\n",
       "      <th>3</th>\n",
       "      <td>Rooneys fucking untouchable isn't he? Been fuc...</td>\n",
       "    </tr>\n",
       "    <tr>\n",
       "      <th>4</th>\n",
       "      <td>it's pretty depressing when u hit pan on ur fa...</td>\n",
       "    </tr>\n",
       "    <tr>\n",
       "      <th>...</th>\n",
       "      <td>...</td>\n",
       "    </tr>\n",
       "    <tr>\n",
       "      <th>3252</th>\n",
       "      <td>I get discouraged because I try for 5 fucking ...</td>\n",
       "    </tr>\n",
       "    <tr>\n",
       "      <th>3253</th>\n",
       "      <td>The @user are in contention and hosting @user ...</td>\n",
       "    </tr>\n",
       "    <tr>\n",
       "      <th>3254</th>\n",
       "      <td>@user @user @user @user @user as a fellow UP g...</td>\n",
       "    </tr>\n",
       "    <tr>\n",
       "      <th>3255</th>\n",
       "      <td>You have a #problem? Yes! Can you do #somethin...</td>\n",
       "    </tr>\n",
       "    <tr>\n",
       "      <th>3256</th>\n",
       "      <td>@user @user i will fight this guy! Don't insul...</td>\n",
       "    </tr>\n",
       "  </tbody>\n",
       "</table>\n",
       "<p>3257 rows × 1 columns</p>\n",
       "</div>"
      ],
      "text/plain": [
       "                                                      0\n",
       "0     “Worry is a down payment on a problem you may ...\n",
       "1     My roommate: it's okay that we can't spell bec...\n",
       "2     No but that's so cute. Atsu was probably shy a...\n",
       "3     Rooneys fucking untouchable isn't he? Been fuc...\n",
       "4     it's pretty depressing when u hit pan on ur fa...\n",
       "...                                                 ...\n",
       "3252  I get discouraged because I try for 5 fucking ...\n",
       "3253  The @user are in contention and hosting @user ...\n",
       "3254  @user @user @user @user @user as a fellow UP g...\n",
       "3255  You have a #problem? Yes! Can you do #somethin...\n",
       "3256  @user @user i will fight this guy! Don't insul...\n",
       "\n",
       "[3257 rows x 1 columns]"
      ]
     },
     "execution_count": 93,
     "metadata": {},
     "output_type": "execute_result"
    }
   ],
   "source": [
    "# wczytanie danych treningowych\n",
    "import pandas as pd\n",
    "TRAIN_PATH = 'tweeteval/datasets/emotion/train_text.txt'\n",
    "train_texts = pd.read_csv(TRAIN_PATH, sep='\\t', header=None)\n",
    "train_texts"
   ]
  },
  {
   "cell_type": "code",
   "execution_count": 94,
   "metadata": {
    "ExecuteTime": {
     "end_time": "2024-05-28T14:33:11.284096Z",
     "start_time": "2024-05-28T14:33:11.263503Z"
    },
    "colab": {
     "base_uri": "https://localhost:8080/"
    },
    "executionInfo": {
     "elapsed": 1000,
     "status": "ok",
     "timestamp": 1619537393680,
     "user": {
      "displayName": "Jan Kocoń",
      "photoUrl": "",
      "userId": "12977978142372414049"
     },
     "user_tz": -120
    },
    "id": "Fk-7nV9x8C-Y",
    "outputId": "c6bda960-2c8b-48cc-9016-602e843ea79d"
   },
   "outputs": [
    {
     "name": "stdout",
     "output_type": "stream",
     "text": [
      "“Worry -1 [-0.1095121   0.38090888 -1.0336643  -0.20598327 -0.07277284 -0.15348345\n",
      "  0.20092662 -1.0153742   0.41634655 -0.31784526  0.11348502 -0.20910835\n",
      "  0.7874847  -0.67356557 -0.01658224  0.09617221  0.12358497 -0.71671605\n",
      " -0.20007092  0.46872017  0.6986645  -0.03173061 -0.06014305  0.20621948\n",
      " -0.42030373 -0.9180052   0.2993617   0.27752367 -0.30830047 -0.20500445\n",
      "  0.3670116  -0.32252508  0.2233359   0.5305474   0.37008417 -0.41395086\n",
      "  0.06991661  0.0071343   0.27354914 -0.14001684 -0.5481983  -0.00806855\n",
      "  0.2036093   0.52803385 -0.19260973 -0.3619391   0.35432452  0.09835459\n",
      "  0.15183051 -0.09794492  0.13949823 -0.12930089  0.22668041 -0.34315103\n",
      " -1.4427141  -0.8985706  -0.33731195  0.5025432   0.39719608 -0.22974221\n",
      "  0.1895984   0.09019955 -0.23765452  0.2115466   0.7556613  -0.5855718\n",
      "  0.05130569  0.10120074  0.41250637  0.10245477  0.15483187  0.59118235\n",
      " -0.527494   -0.06366938  1.1069677   0.44445527  0.22453506 -0.16477649\n",
      "  0.164479   -0.45592377  0.5683366   0.8380193   0.19706032 -0.10465854\n",
      "  0.68645674  1.0743885  -0.2917241  -0.9807734  -0.17487998  0.33195528\n",
      " -0.71845824 -0.11538611 -0.30785158  0.31037974  0.77698094 -0.43847385\n",
      "  0.7177613   0.43025056  0.40880603  0.86054057]\n",
      "is 6 [ 0.11965513 -0.07593966 -0.04606719  0.48883492  0.27927914 -0.31007135\n",
      " -0.12922296 -0.30253628 -0.25726464 -0.19367588  0.2672106   0.1974943\n",
      "  0.09428079 -0.2459256  -0.28615546 -0.48172942  0.27209687  0.1946769\n",
      "  0.05657995  0.16490953  0.12803915  0.02165438  0.32213104  0.18318726\n",
      " -0.2689438  -0.27163324  0.20831874  0.50140524 -0.3288789  -0.20780554\n",
      " -0.26040167 -0.30202928  0.40819734 -0.03179264 -0.17666002  0.39541784\n",
      "  0.30199632 -0.00224029  0.29172617 -0.08268687 -0.1847724   0.28217626\n",
      "  0.23031259 -0.04300293 -0.66316867 -0.439488    0.31718433  0.16955028\n",
      "  0.08867097 -0.28622007 -0.26091218 -0.12532726 -0.0729678  -0.3062448\n",
      " -0.28190765  0.58266336 -0.12051424 -0.2100881   0.02187087  0.17264956\n",
      " -0.04661696  0.21680075  0.08957092  0.27246335  0.4270606  -0.08851517\n",
      " -0.03363037  0.08209053 -0.30859703  0.4707948  -0.19004408  0.44959822\n",
      "  0.0386048   0.19657668  0.04871669 -0.16576946  0.45356297  0.30044392\n",
      "  0.00879997 -0.5785668   0.3253881   0.4896586   0.07943574 -0.14381403\n",
      "  0.6802112   0.03900979  0.04200739 -0.01854162 -0.07379243 -0.402285\n",
      "  0.31494105  0.43995464 -0.0918228  -0.14431986  0.557879   -0.13103804\n",
      "  0.1029664  -0.09783751  0.34095117 -0.15610972]\n",
      "a 7 [ 3.9943695e-01  1.8642323e-01  1.9883737e-01  3.6340922e-01\n",
      "  5.6667936e-01 -7.8197733e-02 -1.7996842e-01  1.8032908e-02\n",
      "  5.0657463e-01  1.6943015e-02  2.2845462e-01 -2.1568377e-02\n",
      " -5.7992339e-04 -1.9425793e-02 -1.3426989e-01 -2.5717998e-01\n",
      "  3.5274777e-01 -3.7435302e-01  8.3157167e-02  4.8376077e-01\n",
      "  4.3486139e-01 -3.3903557e-01  2.3384000e-01  2.3618194e-01\n",
      "  9.9388748e-02  2.4897814e-02  3.8937524e-01  2.4086891e-01\n",
      " -2.5234759e-01 -4.9938370e-02 -9.5920533e-02 -1.8136114e-01\n",
      "  4.3078026e-01  1.8617237e-01 -3.4692422e-01  1.9708852e-01\n",
      "  1.8518001e-01  3.3768344e-01  1.1336626e-01  7.1881071e-02\n",
      " -2.2167310e-02  1.9237520e-01  2.2176400e-01  2.7233404e-01\n",
      " -2.0555321e-02 -2.2954074e-01  7.1086830e-01 -6.6521168e-02\n",
      "  1.6504119e-01 -1.6526374e-01 -2.7619484e-01 -4.0660229e-01\n",
      " -3.5652566e-01 -4.7308290e-01 -1.2429671e-01 -1.8191485e-01\n",
      " -2.2024408e-01  4.4785291e-02 -3.8886121e-01  6.1494209e-02\n",
      " -2.9336217e-01  9.5804214e-02  1.2658833e-01  9.0809435e-02\n",
      "  6.1745286e-02 -4.7800899e-02  1.0328516e-01  1.7455797e-01\n",
      " -6.8406917e-02  3.1698108e-01  3.9211416e-01  1.2371481e-01\n",
      "  1.1066638e-01  2.4358854e-01  4.1162282e-01  2.0765686e-01\n",
      "  1.8824196e-01 -4.9275476e-01  2.8757319e-01 -1.0919282e-01\n",
      "  1.1581922e-01  6.3297525e-02  7.5256228e-03 -3.5273683e-01\n",
      "  6.0479867e-01 -8.7223276e-02 -1.5602221e-01  2.1872401e-02\n",
      "  1.7110074e-01 -3.5700515e-01  3.4603915e-01  3.8802278e-01\n",
      " -1.3620615e-02 -2.2442710e-01  2.5840357e-01 -2.5835493e-01\n",
      " -4.9014241e-02  6.5367006e-02  3.7144232e-01  1.3610959e-02]\n",
      "down 174 [-1.11982629e-01  2.11961716e-01  3.26259434e-01 -7.11075366e-01\n",
      "  1.20056361e-01  6.29714608e-01  2.52848446e-01 -1.40507534e-01\n",
      " -2.83442080e-01  3.67677063e-01  1.19440094e-01  5.15720487e-01\n",
      "  2.49856457e-01  4.00054529e-02  1.64630368e-01 -5.23014784e-01\n",
      "  3.63363624e-01  3.90473068e-01  3.53695005e-01 -8.47378150e-02\n",
      " -4.00182128e-01 -3.83681990e-02 -7.44754623e-04 -2.05757841e-01\n",
      " -9.37821493e-02  1.20576462e-02 -2.41158620e-01  7.60539412e-01\n",
      "  1.41892090e-01 -4.73571241e-01 -8.15230086e-02 -6.50424182e-01\n",
      "  1.13116615e-01  5.62867224e-01 -5.81668496e-01 -3.83358747e-01\n",
      "  3.30323696e-01 -1.81234211e-01  6.09988160e-02  2.15944380e-01\n",
      " -1.03096008e-01  4.87459041e-02 -6.05315529e-03 -1.21337049e-01\n",
      "  3.30671310e-01 -4.65349168e-01  1.09332264e-03  3.71841282e-01\n",
      "  6.97340190e-01  1.22877970e-01 -1.85035214e-01 -3.65043819e-01\n",
      "  1.41220227e-01 -5.87726712e-01 -6.79942429e-01 -3.19479704e-02\n",
      " -3.53160918e-01  7.56171167e-01 -3.75703722e-01 -4.10121754e-02\n",
      "  1.28241539e-01  5.96003115e-01  1.82171270e-01 -3.12297255e-01\n",
      "  2.13430718e-01 -7.10528195e-01  1.97883844e-01  4.92292255e-01\n",
      " -2.05596592e-02  2.96964824e-01  1.18416129e-02  3.54466885e-01\n",
      "  3.28384310e-01  2.88670301e-01  3.11414391e-01  2.64136732e-01\n",
      "  9.77667212e-01  9.40144900e-03 -2.42902562e-02 -4.20445502e-01\n",
      "  5.10860747e-03  4.60386842e-01 -1.30295560e-01 -4.13853586e-01\n",
      "  8.01277906e-03 -4.48991954e-01 -1.38342492e-02 -2.30445713e-01\n",
      "  3.51515859e-01 -7.19444275e-01  4.68399704e-01  1.02856994e-01\n",
      "  4.68906671e-01  1.42678589e-01  3.02109063e-01  2.56773233e-01\n",
      "  1.86059520e-01 -2.79906452e-01  3.16427708e-01 -3.73936832e-01]\n",
      "payment 556 [ 0.58808374  0.41274866 -0.13735291  0.07842693  0.22890526  0.17879528\n",
      " -0.08065034 -0.6449797   0.35341337 -0.04513568  0.37151036 -0.03808045\n",
      " -0.5921669   0.11506308 -0.08062005 -0.14316578  0.0882011  -0.07409557\n",
      " -0.05051399 -0.08190381  0.5588439  -0.35881454 -0.19426513  0.11366364\n",
      "  0.9156377  -0.11420296  0.16930982  0.09608951  0.2760156  -0.18417719\n",
      "  0.02558791 -1.0745401  -0.3306228   0.0189293  -0.07909619  0.4524007\n",
      "  0.3257138  -0.35761946  0.26426518  0.13265726 -0.49301535  0.7690755\n",
      "  0.17666452  0.21294321  0.258001   -0.90229243  0.20053238 -0.2454861\n",
      " -0.1615938  -0.06583294 -0.62742245  0.00747803 -0.26419032 -0.10551092\n",
      " -0.36051285  0.07470485 -0.43336186  0.25563088  0.2781412  -0.3288517\n",
      "  0.16184364 -0.62803304 -0.4418179  -0.3361863  -0.10472493 -0.04874929\n",
      " -0.07833745  0.14289807  0.08597852 -0.11498296  0.432715    0.7180866\n",
      " -0.28097522 -0.39394855  0.4602754   0.3588774   1.2108761   0.06527347\n",
      " -0.21194726 -0.59889585  0.7601199   0.1220911   0.19334684  0.47742748\n",
      "  1.6019282   0.18005694 -0.430447    0.6426599   0.16160464 -0.04447247\n",
      "  0.17449972 -0.1575784   0.04634324  0.04614619  0.08208397 -0.20423204\n",
      " -0.25402915  0.09324527  0.7232769   0.03978165]\n",
      "on 14 [-0.18814841  0.06293411  0.21789935  0.28244606  0.00927165 -0.04060501\n",
      "  0.03959683 -0.21026303 -0.0496731  -0.05890739 -0.35186455 -0.2165364\n",
      "  0.89391583 -0.08650613 -0.23804763 -0.24880487 -0.1636323  -0.15514654\n",
      " -0.24617839  0.5154093   0.22187245 -0.07782264  0.41680166 -0.08219083\n",
      "  0.28663856  0.11208823  0.57331103  0.45364514 -0.04675945 -0.33821672\n",
      " -0.08918335 -0.22022492  0.28744593  0.51957333  0.1762525  -0.42360833\n",
      "  0.51094514  0.04165147 -0.04754841  0.08734626 -0.48502806  0.2185837\n",
      "  0.27718657 -0.31026492 -0.24267036 -0.3747722   0.44785672  0.282654\n",
      " -0.19471127  0.06384888 -0.08935662 -0.24657024 -0.03159431 -0.33632717\n",
      " -0.3530316  -0.00254638 -0.06299916  0.03494023  0.6499191  -0.05486891\n",
      " -0.58529603  0.16808057  0.42494032 -0.04262656  0.5229432   0.21016419\n",
      " -0.06718235  0.1765052   0.06113774  0.49961725  0.11760061 -0.36728576\n",
      "  0.19416949  0.20310554  0.17787185  0.3621658   0.61474806 -0.32144517\n",
      " -0.2679347   0.2968402  -0.0201322  -0.19203167  0.10743603  0.09787594\n",
      "  0.34182858  0.04236346 -0.32212314  0.43801463  0.11965914 -0.6495514\n",
      "  0.09270057  0.21579096  0.43440694 -0.18955374  0.18066582 -0.4226796\n",
      " -0.05601142  0.13354619  0.20186771  0.17274627]\n",
      "a 7 [ 3.9943695e-01  1.8642323e-01  1.9883737e-01  3.6340922e-01\n",
      "  5.6667936e-01 -7.8197733e-02 -1.7996842e-01  1.8032908e-02\n",
      "  5.0657463e-01  1.6943015e-02  2.2845462e-01 -2.1568377e-02\n",
      " -5.7992339e-04 -1.9425793e-02 -1.3426989e-01 -2.5717998e-01\n",
      "  3.5274777e-01 -3.7435302e-01  8.3157167e-02  4.8376077e-01\n",
      "  4.3486139e-01 -3.3903557e-01  2.3384000e-01  2.3618194e-01\n",
      "  9.9388748e-02  2.4897814e-02  3.8937524e-01  2.4086891e-01\n",
      " -2.5234759e-01 -4.9938370e-02 -9.5920533e-02 -1.8136114e-01\n",
      "  4.3078026e-01  1.8617237e-01 -3.4692422e-01  1.9708852e-01\n",
      "  1.8518001e-01  3.3768344e-01  1.1336626e-01  7.1881071e-02\n",
      " -2.2167310e-02  1.9237520e-01  2.2176400e-01  2.7233404e-01\n",
      " -2.0555321e-02 -2.2954074e-01  7.1086830e-01 -6.6521168e-02\n",
      "  1.6504119e-01 -1.6526374e-01 -2.7619484e-01 -4.0660229e-01\n",
      " -3.5652566e-01 -4.7308290e-01 -1.2429671e-01 -1.8191485e-01\n",
      " -2.2024408e-01  4.4785291e-02 -3.8886121e-01  6.1494209e-02\n",
      " -2.9336217e-01  9.5804214e-02  1.2658833e-01  9.0809435e-02\n",
      "  6.1745286e-02 -4.7800899e-02  1.0328516e-01  1.7455797e-01\n",
      " -6.8406917e-02  3.1698108e-01  3.9211416e-01  1.2371481e-01\n",
      "  1.1066638e-01  2.4358854e-01  4.1162282e-01  2.0765686e-01\n",
      "  1.8824196e-01 -4.9275476e-01  2.8757319e-01 -1.0919282e-01\n",
      "  1.1581922e-01  6.3297525e-02  7.5256228e-03 -3.5273683e-01\n",
      "  6.0479867e-01 -8.7223276e-02 -1.5602221e-01  2.1872401e-02\n",
      "  1.7110074e-01 -3.5700515e-01  3.4603915e-01  3.8802278e-01\n",
      " -1.3620615e-02 -2.2442710e-01  2.5840357e-01 -2.5835493e-01\n",
      " -4.9014241e-02  6.5367006e-02  3.7144232e-01  1.3610959e-02]\n",
      "problem 1224 [ 2.03241169e-01  6.70500845e-02  1.49444774e-01  7.90375695e-02\n",
      "  9.16898176e-02 -3.00919801e-01  2.70295888e-01 -2.08551332e-01\n",
      " -1.71218421e-02 -7.64899924e-02  3.69818835e-03  2.96075404e-01\n",
      "  2.49549434e-01  8.00816715e-02  1.54954046e-01 -1.31641984e-01\n",
      " -9.53346770e-03  1.39468715e-01  6.26424178e-02  2.44127378e-01\n",
      "  4.16449845e-01 -4.68391806e-01  1.74600393e-01 -2.53815562e-01\n",
      "  4.39198911e-01 -1.79515257e-01 -4.69541013e-01 -5.11446238e-01\n",
      " -1.17522210e-01 -4.58714031e-02 -5.25323033e-01  2.29627360e-02\n",
      "  5.84741011e-02 -2.18014777e-01 -3.27668279e-01  2.50743747e-01\n",
      "  4.71276879e-01  9.21198130e-02 -2.73179322e-01 -2.35701486e-01\n",
      " -1.95677236e-01  4.15966243e-01 -1.69512921e-03  6.42138600e-01\n",
      " -2.78500587e-01 -4.76410419e-01  4.12923545e-01  3.43995422e-01\n",
      "  4.95718598e-01 -1.25588790e-01 -5.01110971e-01 -2.59567052e-01\n",
      "  7.23692682e-03 -2.26522431e-01 -1.21077824e+00 -2.45480910e-01\n",
      " -1.78029627e-01  3.39440435e-01 -6.28973320e-02 -5.62274195e-02\n",
      "  1.59880832e-01 -5.43138087e-01  9.18153208e-04 -3.04356605e-01\n",
      "  2.88819224e-01  6.38640299e-02  6.86834976e-02  1.24631196e-01\n",
      " -2.41161719e-01  3.12622100e-01  4.65260595e-01  3.06746900e-01\n",
      "  9.45076421e-02 -5.29313609e-02  4.27622139e-01 -2.59497762e-01\n",
      "  2.11991131e-01 -5.05706854e-02 -2.71562338e-02 -4.78818417e-01\n",
      "  5.87404191e-01  2.33074605e-01  1.00949220e-01  4.66841739e-03\n",
      "  7.10387707e-01  3.79940361e-01 -3.95353645e-01 -4.13444154e-02\n",
      " -1.85388297e-01 -1.57937810e-01  2.09749907e-01 -3.74001086e-01\n",
      "  6.83271587e-01  6.86927199e-01  1.18550539e+00 -4.23305243e-01\n",
      "  1.56983897e-01 -1.19137034e-01  5.22621036e-01  1.90681383e-01]\n",
      "you 18 [ 0.25840127  0.29937968 -0.03052385  0.02173434 -0.04847638 -0.04226324\n",
      " -0.02437028 -0.06317978 -0.09477259  0.07578634  0.47516483 -0.02929486\n",
      " -0.05650783 -0.11702231 -0.21912505 -0.12282423  0.34341118 -0.38732034\n",
      "  0.22567154  0.0489065   0.6640186  -0.26884386  0.10925058 -0.17439014\n",
      " -0.02083012  0.08765364 -0.04967149  0.61365986 -0.04420214 -0.30168974\n",
      " -0.02726623 -0.0885231   0.36195728  0.2205995   0.25227076 -0.08600269\n",
      "  0.10014717  0.104342   -0.6627406  -0.08577856 -0.41171405  0.19277184\n",
      "  0.35556886  0.4975041  -0.29317126 -0.3756674   0.3082115   0.18391642\n",
      "  0.09896494 -0.15409872  0.00775589 -0.19297308 -0.1765999  -0.22072725\n",
      " -0.6421289  -0.14058793 -0.39714417  0.3506617  -0.18092702 -0.06849416\n",
      "  0.00165829 -0.4147662   0.54797447  0.6101011  -0.27664     0.13240433\n",
      " -0.22104438 -0.13965704 -0.07498929  0.18218821 -0.10976738  0.1740564\n",
      "  0.41853178 -0.03633814  0.62753123  0.5492881   0.24083282 -0.19340967\n",
      " -0.14641243 -0.04783784  0.18104503 -0.10861392  0.31216156  0.01411462\n",
      "  0.4157127  -0.18354084 -0.15513912 -0.15678482  0.29558545 -0.5039636\n",
      "  0.20162028  0.38073316  0.20072052 -0.00349631  0.7237146  -0.02754812\n",
      " -0.09907273  0.15915284 -0.17189981 -0.15917377]\n",
      "may 309 [ 6.00041389e-01 -5.09488322e-02  1.76425323e-01 -4.45830762e-01\n",
      "  3.42786580e-01  2.60106146e-01  4.02840495e-01 -2.47156978e-01\n",
      "  2.52042472e-01  1.76859081e-01  2.86335140e-01  4.22059953e-01\n",
      " -5.35459891e-02 -4.60547507e-01  2.04984844e-01 -3.24272364e-01\n",
      "  7.82793760e-02 -1.42414700e-02 -4.08150814e-02 -5.24746440e-02\n",
      " -2.38000229e-01 -1.33992314e-01  2.13390619e-01  1.00934237e-01\n",
      " -8.03989321e-02 -1.69647038e-01  4.45375472e-01  2.97797117e-02\n",
      " -4.18387532e-01  2.49816313e-01 -3.63574058e-01  4.66052480e-02\n",
      "  1.85322836e-01 -2.30615050e-01  9.01689380e-02  1.27294943e-01\n",
      "  3.96331847e-01  1.80341497e-01 -5.56411982e-01  3.15187663e-01\n",
      "  1.92806870e-01  1.11228436e-01  2.11470991e-01 -1.97313398e-01\n",
      " -6.85005784e-02 -8.21452260e-01  9.49362397e-01  3.20975840e-01\n",
      "  3.47090364e-01  4.98507135e-02 -3.22140634e-01 -7.51500353e-02\n",
      "  9.98903438e-02 -6.30905569e-01 -6.23092890e-01 -1.50908142e-01\n",
      " -1.03417590e-01  7.63190761e-02 -6.79042935e-02  2.29904309e-01\n",
      "  9.36673135e-02 -8.28258768e-02  7.10858047e-01  1.69737920e-01\n",
      "  3.95279899e-02 -8.29842836e-02 -1.36523232e-01  2.01793820e-01\n",
      " -1.09835453e-01  2.47592390e-01  1.14285946e-03  6.14803255e-01\n",
      " -2.06056207e-01  2.54436612e-01  8.04783940e-01  2.15568066e-01\n",
      "  4.85475212e-01  4.07596558e-01 -4.24298085e-02 -4.60491963e-02\n",
      " -3.68612893e-02 -3.15909684e-01 -1.31537288e-01 -3.21728200e-01\n",
      "  4.20191646e-01  2.83919424e-01  1.07242353e-01 -2.84056395e-01\n",
      "  3.28221679e-01 -5.77005565e-01  8.86626355e-03  9.23565477e-02\n",
      "  4.37733173e-01 -4.49946433e-01  4.81257945e-01 -1.11619242e-01\n",
      "  3.21781844e-01 -6.65477361e-04  1.96994007e-01 -2.69413173e-01]\n",
      "never 299 [ 4.59194422e-01  1.50970206e-01 -1.16067849e-01 -5.28992593e-01\n",
      "  4.55044329e-01  1.69338182e-01  8.87047350e-02 -1.21513188e-01\n",
      "  7.20506832e-02 -2.46657044e-01  1.90045074e-01  1.56143710e-01\n",
      "  3.10948014e-01 -5.11421859e-01  2.27792874e-01  3.30648012e-02\n",
      "  4.16980803e-01  5.31779677e-02  4.31151688e-01 -2.44477503e-02\n",
      "  1.09782982e+00 -3.85135204e-01  2.26801291e-01 -2.44925484e-01\n",
      " -3.31465781e-01 -1.49334028e-01  9.64040961e-03  3.12966019e-01\n",
      "  2.72628218e-01 -1.62207484e-01  4.32290137e-02 -4.64415878e-01\n",
      "  1.84408724e-01 -1.30752191e-01  3.53945524e-01  9.30136219e-02\n",
      "  6.83181956e-02  1.45104721e-01 -5.41966736e-01 -6.24478124e-02\n",
      " -8.05834159e-02  1.47768438e-01  9.95997936e-02  4.12020832e-01\n",
      " -4.54515181e-02 -5.81927180e-01  2.67040640e-01  5.40342294e-02\n",
      "  2.07289487e-01  9.47380904e-03  2.83381790e-02  8.67700279e-02\n",
      "  1.68503299e-02 -1.40838206e-01 -9.00568247e-01 -6.82927012e-01\n",
      " -1.53513983e-01 -4.46600752e-04 -3.86573337e-02  5.13478480e-02\n",
      "  6.94841594e-02 -2.82801926e-01  2.68580645e-01  1.24317296e-01\n",
      "  1.24315739e-01  1.28131390e-01 -3.91557932e-01  1.01831146e-01\n",
      " -1.58571199e-01 -3.57684553e-01 -9.60412100e-02  1.86794192e-01\n",
      "  1.17751649e-02  3.03140342e-01  7.16700017e-01 -1.57735750e-01\n",
      "  1.25934422e-01 -1.74495116e-01 -4.96930219e-02 -4.46202308e-01\n",
      "  2.17781633e-01  4.47550744e-01  2.37325072e-01 -1.16299421e-01\n",
      "  1.97182283e-01  2.21786708e-01 -1.46565605e-02  2.21950009e-01\n",
      "  3.17926019e-01 -5.90352118e-01  5.53160906e-01  4.38651331e-02\n",
      "  3.88416409e-01 -1.19820282e-01  5.80773473e-01 -4.36683804e-01\n",
      "  6.45029366e-01  5.48555329e-02  1.85618237e-01 -3.84872817e-02]\n",
      "have'. -1 [ 0.7527324   0.04626021  0.5459159  -0.43012154  0.08953835  0.16848809\n",
      " -0.14218824  0.25245965  0.39124152 -0.21903054  0.21229964  0.42551988\n",
      "  0.31501335 -0.40906477  0.26992434 -0.3132481   0.17704162  0.5669445\n",
      "  0.40585867  0.13180858  0.8694617  -0.24504188  0.70795727 -0.17230539\n",
      " -0.20520134 -0.33139262 -0.13046911  0.2341503  -0.01677567 -0.4723764\n",
      "  0.28604868  0.03108146  0.10640281  0.23326227 -0.24361253  0.06779722\n",
      "  0.3890297   0.55423945  0.00990322  0.07438499 -0.35890666  0.32888824\n",
      " -0.09282354  0.47449616 -0.16188431 -0.68971646  0.47332397  0.18207991\n",
      "  0.05920769  0.27790052  0.14892688 -0.2169199  -0.13623448 -0.41948095\n",
      " -0.70650375 -0.29689664 -0.01615356  0.23794432 -0.7223774  -0.33814102\n",
      "  0.20829317  0.2035989   0.06853892  0.05415021 -0.14392146  0.58564144\n",
      "  0.11325336  0.44547224  0.06143831 -0.26514578  0.15413341  0.3907835\n",
      "  0.42583895  0.04662462  0.80355966  0.57248366  0.17126234  0.5401629\n",
      "  0.2969373  -0.07460308 -0.3277842   0.05825215 -0.14860637  0.1868689\n",
      "  0.8252873   0.6541901  -0.08972475 -0.18661174  0.15404992 -0.40122885\n",
      " -0.02644254 -0.31195065  0.36746213 -0.197774    0.12354273 -0.40642184\n",
      "  0.50525826  0.04473054  0.30013674  0.36583477]\n",
      " Joyce -1 [-0.04751123  0.24198861  0.23564751 -0.6886814   0.19138439  0.7055826\n",
      " -0.10873955 -0.4335666   0.11866747 -0.10028398  0.4806863  -0.05998029\n",
      "  0.7483812  -0.231781    0.4916552  -0.12167612  0.15826477 -0.28309923\n",
      "  0.10877115  0.36443523 -0.05221315  0.24232322  0.14747132  0.20573093\n",
      " -0.4335995  -0.14812332 -0.17100084  0.4789951  -0.07824571 -0.3499895\n",
      "  0.47917214 -0.8395475  -0.2014917   0.24000698 -0.10429234 -0.18727027\n",
      "  0.14378265  0.5028842   0.74049747  0.5851507  -0.15809496  0.72085834\n",
      " -0.2676221   0.05063248 -0.17322814 -0.31294915  0.391976    0.2782916\n",
      "  0.14301491 -0.25088897 -0.41787082 -0.02516737  0.53813416  0.20177634\n",
      " -0.8602702  -0.47045818  0.07153141  0.08118028  0.35381857  0.04880359\n",
      " -0.08236676 -0.62648916  0.03644856 -0.3516076  -0.04151586 -0.46007553\n",
      " -0.2944521   0.3147265   0.05172743 -0.09445984  0.0057355   0.6070555\n",
      " -0.04346238  0.43414244  0.6768774   0.34002742 -0.00525695  0.41911376\n",
      " -0.46276516 -0.64307576  0.6039832   0.30604774  0.03354173  0.54371345\n",
      "  0.02913673  0.17559558 -0.08021691  0.9612277   0.14985935 -0.19491161\n",
      " -0.06373683  0.21640931 -0.06382827 -0.02199713  0.3564211   0.46065924\n",
      " -0.064775    0.12345246  0.35792452 -0.4534793 ]\n",
      "Meyer. 512882 [-0.06510973  0.2229626   0.5258206  -0.14990282 -0.6042047  -0.17578384\n",
      "  0.01279766  0.05453284 -0.09557199 -0.598903    0.5516032   0.08873773\n",
      "  0.07354297  0.32755548  0.214313   -0.35993776  0.19454166  0.02613218\n",
      " -0.5140153  -0.01951696  0.23477891 -0.00564671 -0.23602335  0.5312335\n",
      " -0.35341206 -0.37742168  0.40119693  0.66403365 -0.03608925 -0.6152896\n",
      "  1.036119   -0.99697757  0.31939897  0.31397384  0.15475096  0.38974792\n",
      "  0.6818643   0.45724195  0.07428104 -0.02117702 -0.22148614  0.09541482\n",
      "  0.09292763  0.64393604 -0.06489772 -0.23863381  0.51257914  0.10714778\n",
      "  0.20658448 -0.36465335 -0.4030993   0.4155889   0.17614149 -0.24610771\n",
      " -0.6720187  -0.66301167 -0.23040697  0.04777608  0.03715738  0.13006635\n",
      " -0.27519688 -0.4533392  -0.65313166  0.0853979  -0.20140462 -0.23025641\n",
      "  0.71762806  0.35562485  0.40106416  0.4035847   0.62108463  0.28479257\n",
      " -0.11314549  0.8412017   0.56194717  1.0924455   0.23066147  0.13208584\n",
      "  0.25048107 -0.20084432 -0.24747512  0.75481385 -0.2163375   0.00894375\n",
      "  0.17513566  0.59775597  0.28549203  1.071236   -0.18282692 -0.07152623\n",
      " -0.05664998  0.3731073   0.54452354  0.43488172  0.26611528  0.3818081\n",
      "  0.06910056 -0.15526822  0.0724568   0.885182  ]\n",
      "#motivation 4480 [-0.3713789  -0.43934166 -0.13274081 -0.48715627 -0.7294928   0.16928297\n",
      " -1.0078166  -0.4468675   0.15309806 -0.7207757   0.10516498  0.40149063\n",
      "  0.70847857  0.41268438  0.19006605 -0.08362922  0.50836796 -0.05862556\n",
      " -0.51803696  0.23682852  0.4438141   0.08322189  0.08551827 -0.36653826\n",
      "  0.354475    0.34562406 -0.45536622  0.54231906 -0.2817489  -0.11424725\n",
      "  0.23873791 -0.22041419  0.42354095  0.08510905  0.2822631   0.07290346\n",
      " -0.38916448  1.3086122  -0.6222584   0.48419958  0.04166619  0.39997\n",
      " -0.56410754  0.6166116  -0.501446    0.7391428  -0.07119692  0.70697814\n",
      "  0.41959724 -0.06016539 -0.47849965  0.26780325  0.5534425  -0.6111945\n",
      " -0.9866569  -0.8241497  -0.8036775   0.09125439  0.5422245   0.09276846\n",
      " -0.1986985  -0.21278556  0.47281027  0.4981104  -1.6362375  -0.27612573\n",
      " -0.58603495  0.3773252   0.5407176  -1.0012864   1.5419625   1.142132\n",
      " -0.6680286   0.15860869  0.46213013  0.01727763  1.1746476  -0.393085\n",
      "  0.7272003   0.03314657 -0.06688723  0.94703096  0.13466777  0.5885043\n",
      "  0.4863131  -0.51263773  0.7790701   0.22342823  0.25803787  0.49316663\n",
      "  0.95213467  0.8357682  -0.37067887 -0.5337151   0.4311276   0.49836075\n",
      "  0.33182645  0.24107422  0.8145453   0.23249073]\n",
      "#leadership 11070 [-4.3369469e-01 -5.8419621e-01  1.9335312e-01 -4.3188369e-01\n",
      " -7.3657137e-01  3.5566977e-01 -6.9548690e-01 -6.3113940e-01\n",
      "  3.8529095e-01  3.1138424e-02 -1.8624133e-01  3.5122782e-01\n",
      "  5.3331321e-01  4.3743628e-01  8.8171777e-04  4.6252431e-03\n",
      "  4.7403067e-01 -7.5714147e-01 -5.0425434e-01  8.6095774e-01\n",
      "  1.8832722e-01  1.6221945e-01  2.2965671e-01  5.3539181e-01\n",
      "  1.1656792e-01  3.4312209e-01 -4.1016558e-01 -1.0149910e-01\n",
      "  1.6208830e-01  2.1705066e-01  1.7968591e-01  3.6961770e-01\n",
      "  1.2670480e-01  5.8900905e-01  5.8960114e-02 -3.9046568e-01\n",
      " -1.3938743e-01  1.0556941e+00 -1.9695824e-01  5.4235980e-02\n",
      " -7.2821254e-01  3.7660712e-01 -4.6374753e-01  7.3741931e-01\n",
      " -5.5639452e-01 -1.1105414e-01 -1.6717385e-01  9.9912089e-01\n",
      "  4.1438314e-01 -1.3001108e-01 -7.1996695e-01  4.2167762e-01\n",
      "  2.8704095e-01 -3.3482343e-01 -8.9039946e-01 -1.6080908e-01\n",
      " -1.1729583e+00  4.1295296e-01  1.4615203e-01  1.2034460e-01\n",
      " -4.7518745e-01 -9.1696656e-01  4.8337150e-01  3.0528730e-01\n",
      " -4.4123536e-01 -1.8350181e-01 -1.5462056e-03  5.8132160e-01\n",
      "  5.3813219e-01 -2.5876763e-01  1.0027305e+00  1.3097439e+00\n",
      " -6.1802423e-01  1.2320883e-01 -1.3523024e-01  3.3471256e-01\n",
      "  7.8408188e-01 -7.9350108e-01  3.7913671e-01 -1.6686594e-01\n",
      "  5.5672121e-01  9.8628885e-01 -6.0821887e-02  1.7179684e-01\n",
      "  5.2593142e-01  1.5946469e-01  7.9434186e-01  8.0280966e-01\n",
      "  3.2402635e-02 -1.0981958e-02  5.1739883e-01  3.3705080e-01\n",
      " -3.0515409e-01  1.6617440e-01  8.8579768e-01  1.1816080e+00\n",
      "  5.0045717e-01  3.0268332e-01  3.1073424e-01  7.7164268e-01]\n",
      "#worry 238619 [ 0.13004568 -0.59876645 -0.5487536  -1.0242245   0.08193219  0.4264728\n",
      " -0.15027618 -0.60910743 -0.20525837 -0.10641615  0.26904932  0.55314326\n",
      "  1.3501487  -0.33953097 -0.06332195 -0.51221234 -0.30697948 -0.13488738\n",
      "  0.27344227  0.09443329 -0.09267004 -0.08256263  0.10218661  0.07228937\n",
      "  0.05425292 -0.3610268  -0.17890887  0.28651094 -0.11599579  0.6436159\n",
      "  0.3188123  -0.12278397  0.03147628  0.08802749  0.4551635   0.3027185\n",
      " -0.19519787  0.65229625 -0.9918556  -0.3345855  -0.5226458   0.67338616\n",
      " -0.6267113   0.53947294 -0.55771166  0.16442837  0.709818    0.7614514\n",
      "  0.27963966 -0.32293743 -0.35378784  0.12086467  0.32542863 -0.38507923\n",
      " -0.9457783  -1.0191029  -0.54732597  0.03933144  0.05716854 -0.02978744\n",
      " -0.48677662 -0.03562799  0.15758456  0.38018554 -0.35110798 -0.1479589\n",
      "  0.08241192 -0.20235336 -0.08728761 -0.22268721  0.34715503  1.823755\n",
      " -0.15811414 -0.11268898  0.8335964   0.23603164  1.0327253  -0.96375805\n",
      " -0.5530971   0.0426398  -0.5857533   0.49419594 -0.12066066  0.05207678\n",
      "  0.77018154 -0.44643122  0.7109407  -0.04793172 -0.08075486 -0.53531027\n",
      " -0.13640344 -0.5697432  -0.25218785  0.17109318  0.93015933  0.46480635\n",
      "  0.15470417 -0.11264811  0.7195327   1.0720253 ]\n"
     ]
    }
   ],
   "source": [
    "# wektoryzacja pierwszego tekstu\n",
    "first_text = train_texts[0][0]\n",
    "for word in fasttext.tokenize(first_text):\n",
    "  print(word, fasttext_model.get_word_id(word), fasttext_model.get_word_vector(word))"
   ]
  },
  {
   "cell_type": "markdown",
   "metadata": {
    "id": "NWb5iv7T9ML9"
   },
   "source": [
    "Proszę zwrócić uwagę, że fastText jest w stanie przyporządkować reprezentację wektorową nawet dla takich słów, których model języka nie widział w trakcie uczenia (pierwszy token wejściowego tekstu). "
   ]
  },
  {
   "cell_type": "code",
   "execution_count": 95,
   "metadata": {
    "ExecuteTime": {
     "end_time": "2024-05-28T12:06:36.522068Z",
     "start_time": "2024-05-28T12:06:36.512643Z"
    },
    "collapsed": false
   },
   "outputs": [
    {
     "data": {
      "text/html": [
       "<div>\n",
       "<style scoped>\n",
       "    .dataframe tbody tr th:only-of-type {\n",
       "        vertical-align: middle;\n",
       "    }\n",
       "\n",
       "    .dataframe tbody tr th {\n",
       "        vertical-align: top;\n",
       "    }\n",
       "\n",
       "    .dataframe thead th {\n",
       "        text-align: right;\n",
       "    }\n",
       "</style>\n",
       "<table border=\"1\" class=\"dataframe\">\n",
       "  <thead>\n",
       "    <tr style=\"text-align: right;\">\n",
       "      <th></th>\n",
       "      <th>0</th>\n",
       "    </tr>\n",
       "  </thead>\n",
       "  <tbody>\n",
       "    <tr>\n",
       "      <th>0</th>\n",
       "      <td>2</td>\n",
       "    </tr>\n",
       "    <tr>\n",
       "      <th>1</th>\n",
       "      <td>0</td>\n",
       "    </tr>\n",
       "    <tr>\n",
       "      <th>2</th>\n",
       "      <td>1</td>\n",
       "    </tr>\n",
       "    <tr>\n",
       "      <th>3</th>\n",
       "      <td>0</td>\n",
       "    </tr>\n",
       "    <tr>\n",
       "      <th>4</th>\n",
       "      <td>3</td>\n",
       "    </tr>\n",
       "    <tr>\n",
       "      <th>...</th>\n",
       "      <td>...</td>\n",
       "    </tr>\n",
       "    <tr>\n",
       "      <th>3252</th>\n",
       "      <td>3</td>\n",
       "    </tr>\n",
       "    <tr>\n",
       "      <th>3253</th>\n",
       "      <td>3</td>\n",
       "    </tr>\n",
       "    <tr>\n",
       "      <th>3254</th>\n",
       "      <td>0</td>\n",
       "    </tr>\n",
       "    <tr>\n",
       "      <th>3255</th>\n",
       "      <td>0</td>\n",
       "    </tr>\n",
       "    <tr>\n",
       "      <th>3256</th>\n",
       "      <td>0</td>\n",
       "    </tr>\n",
       "  </tbody>\n",
       "</table>\n",
       "<p>3257 rows × 1 columns</p>\n",
       "</div>"
      ],
      "text/plain": [
       "      0\n",
       "0     2\n",
       "1     0\n",
       "2     1\n",
       "3     0\n",
       "4     3\n",
       "...  ..\n",
       "3252  3\n",
       "3253  3\n",
       "3254  0\n",
       "3255  0\n",
       "3256  0\n",
       "\n",
       "[3257 rows x 1 columns]"
      ]
     },
     "execution_count": 95,
     "metadata": {},
     "output_type": "execute_result"
    }
   ],
   "source": [
    "TRAIN_LABELS_PATH = 'tweeteval/datasets/emotion/train_labels.txt'\n",
    "train_labels = pd.read_csv(TRAIN_LABELS_PATH, sep='\\t', header=None)\n",
    "train_labels"
   ]
  },
  {
   "cell_type": "markdown",
   "metadata": {
    "id": "eYtFNcbU9qSR"
   },
   "source": [
    "## Model klasyfikacji tekstu LSTM (2 pkt.)"
   ]
  },
  {
   "cell_type": "code",
   "execution_count": 3,
   "metadata": {
    "id": "SOP5PoY7907f"
   },
   "outputs": [],
   "source": [
    "from torch import nn\n",
    "import torch\n",
    "from torch.nn import functional as F\n",
    "\n",
    "class LSTMModel(nn.Module):\n",
    "    def __init__(self, input_dim, hidden_dim, output_dim, num_layers):\n",
    "        super(LSTMModel, self).__init__()\n",
    "\n",
    "\n",
    "        self.lstms = nn.LSTM(input_dim, hidden_dim, num_layers, batch_first=True)\n",
    "        self.fc = nn.Linear(hidden_dim, output_dim)\n",
    "\n",
    "\n",
    "    def forward(self, x):\n",
    "        out =self.lstms(x)\n",
    "        out = self.fc(out[0][:,-1,:])\n",
    "        return out\n",
    "        \n"
   ]
  },
  {
   "cell_type": "markdown",
   "metadata": {
    "id": "n9E-pBUY90LF"
   },
   "source": [
    "## Trenowanie modeli LSTM dla ZJAWISKO_1 i ZJAWISKO_2 (2 pkt.)\n",
    "Należy wybrać 2 z 7 dostępnych podzbiorów z [TweetEval](https://github.com/cardiffnlp/tweeteval) anotowanych następującymi zjawiskami: 1) emocje (emotion), 2) emotikony (emoji), 3) ironia (irony), 4) mowa nienawiści (hate speech), 5) mowa ofensywna (offensive language), 6) wydźwięk (sentiment), 7) nastawienie (stance)."
   ]
  },
  {
   "cell_type": "code",
   "execution_count": 4,
   "metadata": {},
   "outputs": [],
   "source": [
    "from torch.utils.data import Dataset, DataLoader\n",
    "from torch.nn.utils.rnn import pad_sequence\n",
    "\n",
    "\n",
    "class TweetDataset(Dataset):\n",
    "    def __init__(self, texts, labels, fasttext_model):\n",
    "        \n",
    "        self.texts = texts\n",
    "        self.labels = torch.tensor(labels)\n",
    "        self.model = fasttext_model\n",
    "\n",
    "    def __len__(self):\n",
    "        return len(self.texts)\n",
    "\n",
    "    def __getitem__(self, idx):\n",
    "        \n",
    "        return {\n",
    "            'embedding': torch.stack([torch.tensor(self.model.get_word_vector(word)) for word in fasttext.tokenize(self.texts[idx])]),\n",
    "            'label': self.labels[idx],\n",
    "        }\n",
    "\n",
    "def collate_fn(batch):\n",
    "    embeddings = [item['embedding'] for item in batch]\n",
    "    labels = [item['label'] for item in batch]\n",
    "    return pad_sequence(embeddings, batch_first=True), torch.stack(labels)"
   ]
  },
  {
   "cell_type": "code",
   "execution_count": 5,
   "metadata": {
    "id": "1Syr87r2-tSO"
   },
   "outputs": [],
   "source": [
    "# sentiment, irony\n",
    "import pandas as pd\n",
    "from torch.utils.data import Dataset, DataLoader\n",
    "\n",
    "TRAIN_SENTIMENT_PATH = 'tweeteval/datasets/sentiment/train_text.txt'\n",
    "TRAIN_SENTIMENT_LABELS_PATH = 'tweeteval/datasets/sentiment/train_labels.txt'\n",
    "TRAIN_IRONY_PATH = 'tweeteval/datasets/irony/train_text.txt'\n",
    "TRAIN_IRONY_LABELS_PATH = 'tweeteval/datasets/irony/train_labels.txt'\n",
    "\n",
    "train_sentiment_texts = pd.read_csv(TRAIN_SENTIMENT_PATH, sep='\\t', header=None)\n",
    "train_sentiment_labels = pd.read_csv(TRAIN_SENTIMENT_LABELS_PATH, sep='\\t', header=None)\n",
    "train_irony_texts = pd.read_csv(TRAIN_IRONY_PATH, sep='\\t', header=None, on_bad_lines='skip')\n",
    "train_irony_labels = pd.read_csv(TRAIN_IRONY_LABELS_PATH, sep='\\t', header=None)\n",
    "\n",
    "irony_ds = pd.concat([train_irony_texts, train_irony_labels], axis=1)\n",
    "irony_ds.columns = ['text', 'label']\n",
    "irony_ds = irony_ds.dropna()\n",
    "\n",
    "sentiment_ds = pd.concat([train_sentiment_texts, train_sentiment_labels], axis=1)\n",
    "sentiment_ds.columns = ['text', 'label']\n",
    "sentiment_ds = sentiment_ds.dropna()\n",
    "\n",
    "irony_train_ds = TweetDataset(irony_ds['text'], irony_ds['label'], fasttext_model=fasttext_model)\n",
    "sentiment_train_ds = TweetDataset(sentiment_ds['text'], sentiment_ds['label'], fasttext_model=fasttext_model)\n",
    "\n",
    "irony_train_dl = DataLoader(irony_train_ds, batch_size=32, shuffle=True, collate_fn=collate_fn)\n",
    "sentiment_train_dl = DataLoader(sentiment_train_ds, batch_size=32, shuffle=True, collate_fn=collate_fn)"
   ]
  },
  {
   "cell_type": "code",
   "execution_count": 6,
   "metadata": {},
   "outputs": [],
   "source": [
    "VAL_SENTIMENT_PATH = 'tweeteval/datasets/sentiment/val_text.txt'\n",
    "VAL_SENTIMENT_LABELS_PATH = 'tweeteval/datasets/sentiment/val_labels.txt'\n",
    "VAL_IRONY_PATH = 'tweeteval/datasets/irony/val_text.txt'\n",
    "VAL_IRONY_LABELS_PATH = 'tweeteval/datasets/irony/val_labels.txt'\n",
    "\n",
    "val_sentiment_texts = pd.read_csv(VAL_SENTIMENT_PATH, sep='\\t', header=None)\n",
    "val_sentiment_labels = pd.read_csv(VAL_SENTIMENT_LABELS_PATH, sep='\\t', header=None)\n",
    "val_irony_texts = pd.read_csv(VAL_IRONY_PATH, sep='\\t', header=None, on_bad_lines='skip')\n",
    "val_irony_labels = pd.read_csv(VAL_IRONY_LABELS_PATH, sep='\\t', header=None)\n",
    "\n",
    "irony_ds_val = pd.concat([val_irony_texts, val_irony_labels], axis=1)\n",
    "irony_ds_val.columns = ['text', 'label']\n",
    "irony_ds_val = irony_ds_val.dropna()\n",
    "\n",
    "sentiment_ds_val = pd.concat([val_sentiment_texts, val_sentiment_labels], axis=1)\n",
    "sentiment_ds_val.columns = ['text', 'label']\n",
    "sentiment_ds_val = sentiment_ds_val.dropna()\n",
    "\n",
    "irony_val_ds = TweetDataset(irony_ds_val['text'], irony_ds_val['label'], fasttext_model=fasttext_model)\n",
    "sentiment_val_ds = TweetDataset(sentiment_ds_val['text'], sentiment_ds_val['label'], fasttext_model=fasttext_model)\n",
    "\n",
    "irony_val_dl = DataLoader(irony_val_ds, batch_size=32, shuffle=True, collate_fn=collate_fn)\n",
    "sentiment_val_dl = DataLoader(sentiment_val_ds, batch_size=32, shuffle=True, collate_fn=collate_fn)"
   ]
  },
  {
   "cell_type": "code",
   "execution_count": 7,
   "metadata": {},
   "outputs": [],
   "source": [
    "import torch.nn as nn\n",
    "import torch.optim as optim\n",
    "from torch.utils.data import DataLoader\n",
    "from typing import Tuple\n",
    "from tqdm import tqdm\n",
    "\n",
    "def count_correct(\n",
    "    y_pred: torch.Tensor, y_true: torch.Tensor\n",
    ") -> torch.Tensor:\n",
    "    preds = torch.argmax(y_pred, dim=1)\n",
    "    return (preds == y_true).float().sum()\n",
    "\n",
    "def validate(\n",
    "    model: nn.Module,\n",
    "    loss_fn: torch.nn.CrossEntropyLoss,\n",
    "    dataloader: DataLoader\n",
    "):\n",
    "    loss = 0\n",
    "    correct = 0\n",
    "    all = 0\n",
    "    for X_batch, y_batch in dataloader:\n",
    "        y_pred = model(X_batch.cuda())\n",
    "        all += len(y_pred)\n",
    "        loss += loss_fn(y_pred, y_batch.cuda()).sum()\n",
    "        correct += count_correct(y_pred, y_batch.cuda())\n",
    "    return loss / all, correct / all\n",
    "\n",
    "def fit(\n",
    "    model: nn.Module, optimiser: optim.Optimizer,\n",
    "    loss_fn: torch.nn.CrossEntropyLoss,\n",
    "    train_dl: DataLoader,\n",
    "    val_dl: DataLoader,\n",
    "    epochs: int,\n",
    "    print_metrics: bool = False,\n",
    "    name: str ='',\n",
    "    patience: int = 3,\n",
    "):\n",
    "    last_better_epoch = 0\n",
    "    low_val_loss = float('inf')\n",
    "    low_acc_loss = float('inf')\n",
    "    for epoch in range(epochs):\n",
    "        model.train()\n",
    "        for X_batch, y_batch in tqdm(train_dl, desc=f\"Epoch {epoch}\"):\n",
    "            X_batch = X_batch.to('cuda')\n",
    "            y_batch = y_batch.to('cuda')\n",
    "            y_pred = model(X_batch)\n",
    "            loss = loss_fn(y_pred, y_batch.long())\n",
    "\n",
    "            loss.backward()\n",
    "            optimiser.step()\n",
    "            optimiser.zero_grad()\n",
    "\n",
    "        model.eval()\n",
    "        with torch.no_grad():\n",
    "            train_loss, train_acc = validate(model, loss_fn, train_dl)\n",
    "            val_loss, val_acc = validate(model, loss_fn, val_dl)\n",
    "\n",
    "            if val_loss < low_val_loss:\n",
    "                low_val_loss = val_loss\n",
    "                low_acc_loss = val_acc\n",
    "                last_better_epoch = epoch\n",
    "\n",
    "                torch.save(model.state_dict(), f\"{name}_model.pt\")\n",
    "\n",
    "            if patience is not None and epoch - last_better_epoch > patience:\n",
    "                print(f\"Early stopping on epoch {epoch}\")\n",
    "                break\n",
    "\n",
    "            if print_metrics:\n",
    "                print(\n",
    "                    f\"Epoch {name} {epoch}: \"\n",
    "                    f\"train loss = {train_loss:.3f} (acc: {train_acc:.3f}), \"\n",
    "                    f\"validation loss = {val_loss:.3f} (acc: {val_acc:.3f})\"\n",
    "                )\n",
    "\n",
    "    return low_val_loss, low_acc_loss"
   ]
  },
  {
   "cell_type": "code",
   "execution_count": 249,
   "metadata": {},
   "outputs": [
    {
     "name": "stderr",
     "output_type": "stream",
     "text": [
      "Epoch 0: 100%|██████████| 90/90 [00:02<00:00, 40.30it/s]\n"
     ]
    },
    {
     "name": "stdout",
     "output_type": "stream",
     "text": [
      "Epoch irony 0: train loss = 0.022 (acc: 0.505), validation loss = 0.022 (acc: 0.477)\n"
     ]
    },
    {
     "name": "stderr",
     "output_type": "stream",
     "text": [
      "Epoch 1: 100%|██████████| 90/90 [00:01<00:00, 47.67it/s]\n"
     ]
    },
    {
     "name": "stdout",
     "output_type": "stream",
     "text": [
      "Epoch irony 1: train loss = 0.022 (acc: 0.505), validation loss = 0.022 (acc: 0.477)\n"
     ]
    },
    {
     "name": "stderr",
     "output_type": "stream",
     "text": [
      "Epoch 2: 100%|██████████| 90/90 [00:02<00:00, 44.06it/s]\n"
     ]
    },
    {
     "name": "stdout",
     "output_type": "stream",
     "text": [
      "Epoch irony 2: train loss = 0.022 (acc: 0.505), validation loss = 0.022 (acc: 0.477)\n"
     ]
    },
    {
     "name": "stderr",
     "output_type": "stream",
     "text": [
      "Epoch 3: 100%|██████████| 90/90 [00:02<00:00, 40.15it/s]\n"
     ]
    },
    {
     "name": "stdout",
     "output_type": "stream",
     "text": [
      "Epoch irony 3: train loss = 0.022 (acc: 0.505), validation loss = 0.022 (acc: 0.477)\n"
     ]
    },
    {
     "name": "stderr",
     "output_type": "stream",
     "text": [
      "Epoch 4: 100%|██████████| 90/90 [00:01<00:00, 47.59it/s]\n"
     ]
    },
    {
     "name": "stdout",
     "output_type": "stream",
     "text": [
      "Epoch irony 4: train loss = 0.022 (acc: 0.505), validation loss = 0.022 (acc: 0.477)\n"
     ]
    },
    {
     "name": "stderr",
     "output_type": "stream",
     "text": [
      "Epoch 5: 100%|██████████| 90/90 [00:02<00:00, 42.61it/s]\n"
     ]
    },
    {
     "name": "stdout",
     "output_type": "stream",
     "text": [
      "Epoch irony 5: train loss = 0.022 (acc: 0.508), validation loss = 0.022 (acc: 0.479)\n"
     ]
    },
    {
     "name": "stderr",
     "output_type": "stream",
     "text": [
      "Epoch 6: 100%|██████████| 90/90 [00:02<00:00, 42.89it/s]\n"
     ]
    },
    {
     "name": "stdout",
     "output_type": "stream",
     "text": [
      "Epoch irony 6: train loss = 0.022 (acc: 0.509), validation loss = 0.022 (acc: 0.480)\n"
     ]
    },
    {
     "name": "stderr",
     "output_type": "stream",
     "text": [
      "Epoch 7: 100%|██████████| 90/90 [00:01<00:00, 49.00it/s]\n"
     ]
    },
    {
     "name": "stdout",
     "output_type": "stream",
     "text": [
      "Epoch irony 7: train loss = 0.022 (acc: 0.510), validation loss = 0.022 (acc: 0.476)\n"
     ]
    },
    {
     "name": "stderr",
     "output_type": "stream",
     "text": [
      "Epoch 8: 100%|██████████| 90/90 [00:01<00:00, 45.56it/s]\n"
     ]
    },
    {
     "name": "stdout",
     "output_type": "stream",
     "text": [
      "Epoch irony 8: train loss = 0.022 (acc: 0.532), validation loss = 0.022 (acc: 0.555)\n"
     ]
    },
    {
     "name": "stderr",
     "output_type": "stream",
     "text": [
      "Epoch 9: 100%|██████████| 90/90 [00:02<00:00, 42.64it/s]\n"
     ]
    },
    {
     "name": "stdout",
     "output_type": "stream",
     "text": [
      "Epoch irony 9: train loss = 0.022 (acc: 0.520), validation loss = 0.022 (acc: 0.549)\n"
     ]
    },
    {
     "name": "stderr",
     "output_type": "stream",
     "text": [
      "Epoch 10: 100%|██████████| 90/90 [00:01<00:00, 47.51it/s]\n"
     ]
    },
    {
     "name": "stdout",
     "output_type": "stream",
     "text": [
      "Epoch irony 10: train loss = 0.022 (acc: 0.546), validation loss = 0.022 (acc: 0.563)\n"
     ]
    },
    {
     "name": "stderr",
     "output_type": "stream",
     "text": [
      "Epoch 11: 100%|██████████| 90/90 [00:01<00:00, 45.47it/s]\n"
     ]
    },
    {
     "name": "stdout",
     "output_type": "stream",
     "text": [
      "Epoch irony 11: train loss = 0.021 (acc: 0.574), validation loss = 0.021 (acc: 0.574)\n"
     ]
    },
    {
     "name": "stderr",
     "output_type": "stream",
     "text": [
      "Epoch 12: 100%|██████████| 90/90 [00:02<00:00, 39.60it/s]\n"
     ]
    },
    {
     "name": "stdout",
     "output_type": "stream",
     "text": [
      "Epoch irony 12: train loss = 0.021 (acc: 0.562), validation loss = 0.021 (acc: 0.582)\n"
     ]
    },
    {
     "name": "stderr",
     "output_type": "stream",
     "text": [
      "Epoch 13: 100%|██████████| 90/90 [00:02<00:00, 43.40it/s]\n"
     ]
    },
    {
     "name": "stdout",
     "output_type": "stream",
     "text": [
      "Epoch irony 13: train loss = 0.021 (acc: 0.574), validation loss = 0.021 (acc: 0.583)\n"
     ]
    },
    {
     "name": "stderr",
     "output_type": "stream",
     "text": [
      "Epoch 14: 100%|██████████| 90/90 [00:02<00:00, 42.13it/s]\n"
     ]
    },
    {
     "name": "stdout",
     "output_type": "stream",
     "text": [
      "Epoch irony 14: train loss = 0.021 (acc: 0.568), validation loss = 0.021 (acc: 0.552)\n"
     ]
    },
    {
     "name": "stderr",
     "output_type": "stream",
     "text": [
      "Epoch 15: 100%|██████████| 90/90 [00:02<00:00, 40.26it/s]\n"
     ]
    },
    {
     "name": "stdout",
     "output_type": "stream",
     "text": [
      "Epoch irony 15: train loss = 0.021 (acc: 0.576), validation loss = 0.021 (acc: 0.602)\n"
     ]
    },
    {
     "name": "stderr",
     "output_type": "stream",
     "text": [
      "Epoch 16: 100%|██████████| 90/90 [00:02<00:00, 44.99it/s]\n"
     ]
    },
    {
     "name": "stdout",
     "output_type": "stream",
     "text": [
      "Epoch irony 16: train loss = 0.021 (acc: 0.589), validation loss = 0.021 (acc: 0.605)\n"
     ]
    },
    {
     "name": "stderr",
     "output_type": "stream",
     "text": [
      "Epoch 17: 100%|██████████| 90/90 [00:01<00:00, 48.03it/s]\n"
     ]
    },
    {
     "name": "stdout",
     "output_type": "stream",
     "text": [
      "Epoch irony 17: train loss = 0.021 (acc: 0.594), validation loss = 0.021 (acc: 0.579)\n"
     ]
    },
    {
     "name": "stderr",
     "output_type": "stream",
     "text": [
      "Epoch 18: 100%|██████████| 90/90 [00:02<00:00, 42.55it/s]\n"
     ]
    },
    {
     "name": "stdout",
     "output_type": "stream",
     "text": [
      "Epoch irony 18: train loss = 0.021 (acc: 0.574), validation loss = 0.021 (acc: 0.545)\n"
     ]
    },
    {
     "name": "stderr",
     "output_type": "stream",
     "text": [
      "Epoch 19: 100%|██████████| 90/90 [00:02<00:00, 42.50it/s]\n"
     ]
    },
    {
     "name": "stdout",
     "output_type": "stream",
     "text": [
      "Epoch irony 19: train loss = 0.021 (acc: 0.595), validation loss = 0.021 (acc: 0.614)\n"
     ]
    },
    {
     "name": "stderr",
     "output_type": "stream",
     "text": [
      "Epoch 20: 100%|██████████| 90/90 [00:01<00:00, 48.46it/s]\n"
     ]
    },
    {
     "name": "stdout",
     "output_type": "stream",
     "text": [
      "Epoch irony 20: train loss = 0.021 (acc: 0.575), validation loss = 0.021 (acc: 0.587)\n"
     ]
    },
    {
     "name": "stderr",
     "output_type": "stream",
     "text": [
      "Epoch 21: 100%|██████████| 90/90 [00:02<00:00, 41.09it/s]\n"
     ]
    },
    {
     "name": "stdout",
     "output_type": "stream",
     "text": [
      "Epoch irony 21: train loss = 0.021 (acc: 0.590), validation loss = 0.021 (acc: 0.612)\n"
     ]
    },
    {
     "name": "stderr",
     "output_type": "stream",
     "text": [
      "Epoch 22: 100%|██████████| 90/90 [00:02<00:00, 42.34it/s]\n"
     ]
    },
    {
     "name": "stdout",
     "output_type": "stream",
     "text": [
      "Epoch irony 22: train loss = 0.020 (acc: 0.611), validation loss = 0.021 (acc: 0.595)\n"
     ]
    },
    {
     "name": "stderr",
     "output_type": "stream",
     "text": [
      "Epoch 23: 100%|██████████| 90/90 [00:02<00:00, 44.19it/s]\n"
     ]
    },
    {
     "name": "stdout",
     "output_type": "stream",
     "text": [
      "Epoch irony 23: train loss = 0.020 (acc: 0.622), validation loss = 0.021 (acc: 0.605)\n"
     ]
    },
    {
     "name": "stderr",
     "output_type": "stream",
     "text": [
      "Epoch 24: 100%|██████████| 90/90 [00:02<00:00, 37.43it/s]\n"
     ]
    },
    {
     "name": "stdout",
     "output_type": "stream",
     "text": [
      "Epoch irony 24: train loss = 0.020 (acc: 0.615), validation loss = 0.021 (acc: 0.591)\n"
     ]
    },
    {
     "name": "stderr",
     "output_type": "stream",
     "text": [
      "Epoch 25: 100%|██████████| 90/90 [00:02<00:00, 42.50it/s]\n"
     ]
    },
    {
     "name": "stdout",
     "output_type": "stream",
     "text": [
      "Epoch irony 25: train loss = 0.020 (acc: 0.604), validation loss = 0.021 (acc: 0.600)\n"
     ]
    },
    {
     "name": "stderr",
     "output_type": "stream",
     "text": [
      "Epoch 26: 100%|██████████| 90/90 [00:01<00:00, 45.88it/s]\n"
     ]
    },
    {
     "name": "stdout",
     "output_type": "stream",
     "text": [
      "Epoch irony 26: train loss = 0.020 (acc: 0.636), validation loss = 0.021 (acc: 0.604)\n"
     ]
    },
    {
     "name": "stderr",
     "output_type": "stream",
     "text": [
      "Epoch 27: 100%|██████████| 90/90 [00:02<00:00, 39.67it/s]\n"
     ]
    },
    {
     "name": "stdout",
     "output_type": "stream",
     "text": [
      "Early stopping on epoch 27\n"
     ]
    },
    {
     "data": {
      "text/plain": [
       "(tensor(0.0207, device='cuda:0'), tensor(0.6052, device='cuda:0'))"
      ]
     },
     "execution_count": 249,
     "metadata": {},
     "output_type": "execute_result"
    }
   ],
   "source": [
    "model = LSTMModel(\n",
    "    input_dim=100,\n",
    "    hidden_dim=128,\n",
    "    output_dim=2,\n",
    "    num_layers=2\n",
    ").cuda()\n",
    "\n",
    "\n",
    "optimiser = optim.Adam(model.parameters(), lr=1e-4, weight_decay=1e-5)\n",
    "loss_fn = torch.nn.CrossEntropyLoss()\n",
    "\n",
    "fit(model, optimiser, loss_fn, irony_train_dl, irony_val_dl, epochs=100, print_metrics=True, name='irony')"
   ]
  },
  {
   "cell_type": "code",
   "execution_count": 250,
   "metadata": {},
   "outputs": [
    {
     "data": {
      "text/plain": [
       "<All keys matched successfully>"
      ]
     },
     "execution_count": 250,
     "metadata": {},
     "output_type": "execute_result"
    }
   ],
   "source": [
    "model = LSTMModel(\n",
    "    input_dim=100,\n",
    "    hidden_dim=128,\n",
    "    output_dim=2,\n",
    "    num_layers=2\n",
    ").cuda()\n",
    "\n",
    "model.load_state_dict(torch.load('irony_model.pt'))\n"
   ]
  },
  {
   "cell_type": "code",
   "execution_count": 251,
   "metadata": {},
   "outputs": [
    {
     "name": "stdout",
     "output_type": "stream",
     "text": [
      "              precision    recall  f1-score   support\n",
      "\n",
      "           0       0.62      0.61      0.62       499\n",
      "           1       0.58      0.59      0.59       456\n",
      "\n",
      "    accuracy                           0.60       955\n",
      "   macro avg       0.60      0.60      0.60       955\n",
      "weighted avg       0.60      0.60      0.60       955\n",
      "\n"
     ]
    },
    {
     "data": {
      "image/png": "[encoded data removed]",
      "text/plain": [
       "<Figure size 640x480 with 2 Axes>"
      ]
     },
     "metadata": {},
     "output_type": "display_data"
    }
   ],
   "source": [
    "from sklearn.metrics import classification_report\n",
    "import seaborn as sns\n",
    "import matplotlib.pyplot as plt\n",
    "\n",
    "def evaluate(model, dataloader):\n",
    "    model.eval()\n",
    "    y_true = []\n",
    "    y_pred = []\n",
    "    with torch.no_grad():\n",
    "        for X_batch, y_batch in dataloader:\n",
    "            y_true.extend(y_batch.cpu().numpy())\n",
    "            y_pred.extend(torch.argmax(model(X_batch.cuda()), dim=1).cpu().numpy())\n",
    "\n",
    "    print(classification_report(y_true, y_pred))\n",
    "    sns.heatmap(pd.crosstab(pd.Series(y_true), pd.Series(y_pred), rownames=['True'], colnames=['Predicted']), annot=True, fmt='d')\n",
    "    \n",
    "\n",
    "\n",
    "evaluate(model, irony_val_dl)\n"
   ]
  },
  {
   "cell_type": "code",
   "execution_count": 15,
   "metadata": {},
   "outputs": [
    {
     "name": "stderr",
     "output_type": "stream",
     "text": [
      "Epoch 0:   0%|          | 0/1137 [00:00<?, ?it/s]\n"
     ]
    },
    {
     "ename": "RuntimeError",
     "evalue": "CUDA error: device-side assert triggered\nCUDA kernel errors might be asynchronously reported at some other API call, so the stacktrace below might be incorrect.\nFor debugging consider passing CUDA_LAUNCH_BLOCKING=1.\nCompile with `TORCH_USE_CUDA_DSA` to enable device-side assertions.\n",
     "output_type": "error",
     "traceback": [
      "\u001b[1;31m---------------------------------------------------------------------------\u001b[0m",
      "\u001b[1;31mRuntimeError\u001b[0m                              Traceback (most recent call last)",
      "Cell \u001b[1;32mIn[15], line 11\u001b[0m\n\u001b[0;32m      8\u001b[0m optimiser \u001b[38;5;241m=\u001b[39m optim\u001b[38;5;241m.\u001b[39mAdam(model\u001b[38;5;241m.\u001b[39mparameters(), lr\u001b[38;5;241m=\u001b[39m\u001b[38;5;241m1e-4\u001b[39m, weight_decay\u001b[38;5;241m=\u001b[39m\u001b[38;5;241m1e-5\u001b[39m)\n\u001b[0;32m      9\u001b[0m loss_fn \u001b[38;5;241m=\u001b[39m torch\u001b[38;5;241m.\u001b[39mnn\u001b[38;5;241m.\u001b[39mCrossEntropyLoss()\n\u001b[1;32m---> 11\u001b[0m \u001b[43mfit\u001b[49m\u001b[43m(\u001b[49m\u001b[43mmodel\u001b[49m\u001b[43m,\u001b[49m\u001b[43m \u001b[49m\u001b[43moptimiser\u001b[49m\u001b[43m,\u001b[49m\u001b[43m \u001b[49m\u001b[43mloss_fn\u001b[49m\u001b[43m,\u001b[49m\u001b[43m \u001b[49m\u001b[43msentiment_train_dl\u001b[49m\u001b[43m,\u001b[49m\u001b[43m \u001b[49m\u001b[43msentiment_val_dl\u001b[49m\u001b[43m,\u001b[49m\u001b[43m \u001b[49m\u001b[43mepochs\u001b[49m\u001b[38;5;241;43m=\u001b[39;49m\u001b[38;5;241;43m100\u001b[39;49m\u001b[43m,\u001b[49m\u001b[43m \u001b[49m\u001b[43mprint_metrics\u001b[49m\u001b[38;5;241;43m=\u001b[39;49m\u001b[38;5;28;43;01mTrue\u001b[39;49;00m\u001b[43m,\u001b[49m\u001b[43m \u001b[49m\u001b[43mname\u001b[49m\u001b[38;5;241;43m=\u001b[39;49m\u001b[38;5;124;43m'\u001b[39;49m\u001b[38;5;124;43msentiment\u001b[39;49m\u001b[38;5;124;43m'\u001b[39;49m\u001b[43m)\u001b[49m\n",
      "Cell \u001b[1;32mIn[7], line 44\u001b[0m, in \u001b[0;36mfit\u001b[1;34m(model, optimiser, loss_fn, train_dl, val_dl, epochs, print_metrics, name, patience)\u001b[0m\n\u001b[0;32m     42\u001b[0m model\u001b[38;5;241m.\u001b[39mtrain()\n\u001b[0;32m     43\u001b[0m \u001b[38;5;28;01mfor\u001b[39;00m X_batch, y_batch \u001b[38;5;129;01min\u001b[39;00m tqdm(train_dl, desc\u001b[38;5;241m=\u001b[39m\u001b[38;5;124mf\u001b[39m\u001b[38;5;124m\"\u001b[39m\u001b[38;5;124mEpoch \u001b[39m\u001b[38;5;132;01m{\u001b[39;00mepoch\u001b[38;5;132;01m}\u001b[39;00m\u001b[38;5;124m\"\u001b[39m):\n\u001b[1;32m---> 44\u001b[0m     X_batch \u001b[38;5;241m=\u001b[39m \u001b[43mX_batch\u001b[49m\u001b[38;5;241;43m.\u001b[39;49m\u001b[43mto\u001b[49m\u001b[43m(\u001b[49m\u001b[38;5;124;43m'\u001b[39;49m\u001b[38;5;124;43mcuda\u001b[39;49m\u001b[38;5;124;43m'\u001b[39;49m\u001b[43m)\u001b[49m\n\u001b[0;32m     45\u001b[0m     y_batch \u001b[38;5;241m=\u001b[39m y_batch\u001b[38;5;241m.\u001b[39mto(\u001b[38;5;124m'\u001b[39m\u001b[38;5;124mcuda\u001b[39m\u001b[38;5;124m'\u001b[39m)\n\u001b[0;32m     46\u001b[0m     y_pred \u001b[38;5;241m=\u001b[39m model(X_batch)\n",
      "\u001b[1;31mRuntimeError\u001b[0m: CUDA error: device-side assert triggered\nCUDA kernel errors might be asynchronously reported at some other API call, so the stacktrace below might be incorrect.\nFor debugging consider passing CUDA_LAUNCH_BLOCKING=1.\nCompile with `TORCH_USE_CUDA_DSA` to enable device-side assertions.\n"
     ]
    }
   ],
   "source": [
    "model = LSTMModel(\n",
    "    input_dim=100,\n",
    "    hidden_dim=256,\n",
    "    output_dim=3,\n",
    "    num_layers=1\n",
    ").cuda()\n",
    "\n",
    "optimiser = optim.Adam(model.parameters(), lr=1e-4, weight_decay=1e-5)\n",
    "loss_fn = torch.nn.CrossEntropyLoss()\n",
    "\n",
    "fit(model, optimiser, loss_fn, sentiment_train_dl, sentiment_val_dl, epochs=100, print_metrics=True, name='sentiment')"
   ]
  },
  {
   "cell_type": "code",
   "execution_count": null,
   "metadata": {},
   "outputs": [
    {
     "ename": "RuntimeError",
     "evalue": "Error(s) in loading state_dict for LSTMModel:\n\tMissing key(s) in state_dict: \"lstms.weight_ih_l2\", \"lstms.weight_hh_l2\", \"lstms.bias_ih_l2\", \"lstms.bias_hh_l2\". \n\tsize mismatch for lstms.weight_ih_l0: copying a param with shape torch.Size([1024, 100]) from checkpoint, the shape in current model is torch.Size([512, 100]).\n\tsize mismatch for lstms.weight_hh_l0: copying a param with shape torch.Size([1024, 256]) from checkpoint, the shape in current model is torch.Size([512, 128]).\n\tsize mismatch for lstms.bias_ih_l0: copying a param with shape torch.Size([1024]) from checkpoint, the shape in current model is torch.Size([512]).\n\tsize mismatch for lstms.bias_hh_l0: copying a param with shape torch.Size([1024]) from checkpoint, the shape in current model is torch.Size([512]).\n\tsize mismatch for lstms.weight_ih_l1: copying a param with shape torch.Size([1024, 256]) from checkpoint, the shape in current model is torch.Size([512, 128]).\n\tsize mismatch for lstms.weight_hh_l1: copying a param with shape torch.Size([1024, 256]) from checkpoint, the shape in current model is torch.Size([512, 128]).\n\tsize mismatch for lstms.bias_ih_l1: copying a param with shape torch.Size([1024]) from checkpoint, the shape in current model is torch.Size([512]).\n\tsize mismatch for lstms.bias_hh_l1: copying a param with shape torch.Size([1024]) from checkpoint, the shape in current model is torch.Size([512]).\n\tsize mismatch for fc.weight: copying a param with shape torch.Size([3, 256]) from checkpoint, the shape in current model is torch.Size([3, 128]).",
     "output_type": "error",
     "traceback": [
      "\u001b[1;31m---------------------------------------------------------------------------\u001b[0m",
      "\u001b[1;31mRuntimeError\u001b[0m                              Traceback (most recent call last)",
      "Cell \u001b[1;32mIn[6], line 8\u001b[0m\n\u001b[0;32m      1\u001b[0m model \u001b[38;5;241m=\u001b[39m LSTMModel(\n\u001b[0;32m      2\u001b[0m     input_dim\u001b[38;5;241m=\u001b[39m\u001b[38;5;241m100\u001b[39m,\n\u001b[0;32m      3\u001b[0m     hidden_dim\u001b[38;5;241m=\u001b[39m\u001b[38;5;241m128\u001b[39m,\n\u001b[0;32m      4\u001b[0m     output_dim\u001b[38;5;241m=\u001b[39m\u001b[38;5;241m3\u001b[39m,\n\u001b[0;32m      5\u001b[0m     num_layers\u001b[38;5;241m=\u001b[39m\u001b[38;5;241m3\u001b[39m\n\u001b[0;32m      6\u001b[0m )\u001b[38;5;241m.\u001b[39mcuda()\n\u001b[1;32m----> 8\u001b[0m \u001b[43mmodel\u001b[49m\u001b[38;5;241;43m.\u001b[39;49m\u001b[43mload_state_dict\u001b[49m\u001b[43m(\u001b[49m\u001b[43mtorch\u001b[49m\u001b[38;5;241;43m.\u001b[39;49m\u001b[43mload\u001b[49m\u001b[43m(\u001b[49m\u001b[38;5;124;43m'\u001b[39;49m\u001b[38;5;124;43msentiment_model.pt\u001b[39;49m\u001b[38;5;124;43m'\u001b[39;49m\u001b[43m)\u001b[49m\u001b[43m)\u001b[49m\n\u001b[0;32m     10\u001b[0m evaluate(model, sentiment_val_dl)\n",
      "File \u001b[1;32mc:\\Users\\Konrad\\AppData\\Local\\Programs\\Python\\Python311\\Lib\\site-packages\\torch\\nn\\modules\\module.py:2153\u001b[0m, in \u001b[0;36mModule.load_state_dict\u001b[1;34m(self, state_dict, strict, assign)\u001b[0m\n\u001b[0;32m   2148\u001b[0m         error_msgs\u001b[38;5;241m.\u001b[39minsert(\n\u001b[0;32m   2149\u001b[0m             \u001b[38;5;241m0\u001b[39m, \u001b[38;5;124m'\u001b[39m\u001b[38;5;124mMissing key(s) in state_dict: \u001b[39m\u001b[38;5;132;01m{}\u001b[39;00m\u001b[38;5;124m. \u001b[39m\u001b[38;5;124m'\u001b[39m\u001b[38;5;241m.\u001b[39mformat(\n\u001b[0;32m   2150\u001b[0m                 \u001b[38;5;124m'\u001b[39m\u001b[38;5;124m, \u001b[39m\u001b[38;5;124m'\u001b[39m\u001b[38;5;241m.\u001b[39mjoin(\u001b[38;5;124mf\u001b[39m\u001b[38;5;124m'\u001b[39m\u001b[38;5;124m\"\u001b[39m\u001b[38;5;132;01m{\u001b[39;00mk\u001b[38;5;132;01m}\u001b[39;00m\u001b[38;5;124m\"\u001b[39m\u001b[38;5;124m'\u001b[39m \u001b[38;5;28;01mfor\u001b[39;00m k \u001b[38;5;129;01min\u001b[39;00m missing_keys)))\n\u001b[0;32m   2152\u001b[0m \u001b[38;5;28;01mif\u001b[39;00m \u001b[38;5;28mlen\u001b[39m(error_msgs) \u001b[38;5;241m>\u001b[39m \u001b[38;5;241m0\u001b[39m:\n\u001b[1;32m-> 2153\u001b[0m     \u001b[38;5;28;01mraise\u001b[39;00m \u001b[38;5;167;01mRuntimeError\u001b[39;00m(\u001b[38;5;124m'\u001b[39m\u001b[38;5;124mError(s) in loading state_dict for \u001b[39m\u001b[38;5;132;01m{}\u001b[39;00m\u001b[38;5;124m:\u001b[39m\u001b[38;5;130;01m\\n\u001b[39;00m\u001b[38;5;130;01m\\t\u001b[39;00m\u001b[38;5;132;01m{}\u001b[39;00m\u001b[38;5;124m'\u001b[39m\u001b[38;5;241m.\u001b[39mformat(\n\u001b[0;32m   2154\u001b[0m                        \u001b[38;5;28mself\u001b[39m\u001b[38;5;241m.\u001b[39m\u001b[38;5;18m__class__\u001b[39m\u001b[38;5;241m.\u001b[39m\u001b[38;5;18m__name__\u001b[39m, \u001b[38;5;124m\"\u001b[39m\u001b[38;5;130;01m\\n\u001b[39;00m\u001b[38;5;130;01m\\t\u001b[39;00m\u001b[38;5;124m\"\u001b[39m\u001b[38;5;241m.\u001b[39mjoin(error_msgs)))\n\u001b[0;32m   2155\u001b[0m \u001b[38;5;28;01mreturn\u001b[39;00m _IncompatibleKeys(missing_keys, unexpected_keys)\n",
      "\u001b[1;31mRuntimeError\u001b[0m: Error(s) in loading state_dict for LSTMModel:\n\tMissing key(s) in state_dict: \"lstms.weight_ih_l2\", \"lstms.weight_hh_l2\", \"lstms.bias_ih_l2\", \"lstms.bias_hh_l2\". \n\tsize mismatch for lstms.weight_ih_l0: copying a param with shape torch.Size([1024, 100]) from checkpoint, the shape in current model is torch.Size([512, 100]).\n\tsize mismatch for lstms.weight_hh_l0: copying a param with shape torch.Size([1024, 256]) from checkpoint, the shape in current model is torch.Size([512, 128]).\n\tsize mismatch for lstms.bias_ih_l0: copying a param with shape torch.Size([1024]) from checkpoint, the shape in current model is torch.Size([512]).\n\tsize mismatch for lstms.bias_hh_l0: copying a param with shape torch.Size([1024]) from checkpoint, the shape in current model is torch.Size([512]).\n\tsize mismatch for lstms.weight_ih_l1: copying a param with shape torch.Size([1024, 256]) from checkpoint, the shape in current model is torch.Size([512, 128]).\n\tsize mismatch for lstms.weight_hh_l1: copying a param with shape torch.Size([1024, 256]) from checkpoint, the shape in current model is torch.Size([512, 128]).\n\tsize mismatch for lstms.bias_ih_l1: copying a param with shape torch.Size([1024]) from checkpoint, the shape in current model is torch.Size([512]).\n\tsize mismatch for lstms.bias_hh_l1: copying a param with shape torch.Size([1024]) from checkpoint, the shape in current model is torch.Size([512]).\n\tsize mismatch for fc.weight: copying a param with shape torch.Size([3, 256]) from checkpoint, the shape in current model is torch.Size([3, 128])."
     ]
    }
   ],
   "source": [
    "model = LSTMModel(\n",
    "    input_dim=100,\n",
    "    hidden_dim=128,\n",
    "    output_dim=3,\n",
    "    num_layers=3\n",
    ").cuda()\n",
    "\n",
    "model.load_state_dict(torch.load('sentiment_model.pt'))\n",
    "\n",
    "evaluate(model, sentiment_val_dl)"
   ]
  },
  {
   "cell_type": "markdown",
   "metadata": {
    "id": "bvy1SbHQ-lFs"
   },
   "source": [
    "## Trenowanie modeli LR (fastText) dla ZJAWISKO_1 i ZJAWISKO_2 (2 pkt.)"
   ]
  },
  {
   "cell_type": "code",
   "execution_count": 139,
   "metadata": {
    "id": "0V4g2jmv-weV"
   },
   "outputs": [],
   "source": [
    "from sklearn.linear_model import LogisticRegression\n",
    "from sklearn.preprocessing import StandardScaler\n",
    "from sklearn.pipeline import Pipeline\n",
    "\n",
    "def train_lr(dataset: TweetDataset):\n",
    "    X = []\n",
    "    y = []\n",
    "    for i in range(len(dataset)):\n",
    "        X.append(dataset[i]['embedding'].mean(dim=0).numpy())\n",
    "        y.append(dataset[i]['label'].item())\n",
    "\n",
    "    pipeline = Pipeline([\n",
    "        ('scaler', StandardScaler()),\n",
    "        ('clf', LogisticRegression())\n",
    "    ])\n",
    "\n",
    "    pipeline.fit(X, y)\n",
    "    return pipeline\n",
    "\n",
    "\n",
    "def evaluate_lr(model, dataset):\n",
    "    X = []\n",
    "    y = []\n",
    "    for i in range(len(dataset)):\n",
    "        X.append(dataset[i]['embedding'].mean(dim=0).numpy())\n",
    "        y.append(dataset[i]['label'].item())\n",
    "\n",
    "    y_pred = model.predict(X)\n",
    "    print(classification_report(y, y_pred))\n",
    "    sns.heatmap(pd.crosstab(pd.Series(y), pd.Series(y_pred), rownames=['True'], colnames=['Predicted']), annot=True, fmt='d')"
   ]
  },
  {
   "cell_type": "code",
   "execution_count": 141,
   "metadata": {},
   "outputs": [
    {
     "name": "stdout",
     "output_type": "stream",
     "text": [
      "              precision    recall  f1-score   support\n",
      "\n",
      "           0       0.62      0.57      0.60       499\n",
      "           1       0.57      0.62      0.59       456\n",
      "\n",
      "    accuracy                           0.60       955\n",
      "   macro avg       0.60      0.60      0.60       955\n",
      "weighted avg       0.60      0.60      0.60       955\n",
      "\n"
     ]
    },
    {
     "data": {
      "image/png": "[encoded data removed]",
      "text/plain": [
       "<Figure size 640x480 with 2 Axes>"
      ]
     },
     "metadata": {},
     "output_type": "display_data"
    }
   ],
   "source": [
    "lr_irony = train_lr(irony_train_ds)\n",
    "evaluate_lr(lr_irony, irony_val_ds)"
   ]
  },
  {
   "cell_type": "code",
   "execution_count": 142,
   "metadata": {},
   "outputs": [
    {
     "name": "stderr",
     "output_type": "stream",
     "text": [
      "c:\\Users\\Konrad\\AppData\\Local\\Programs\\Python\\Python311\\Lib\\site-packages\\sklearn\\metrics\\_classification.py:1509: UndefinedMetricWarning: Precision is ill-defined and being set to 0.0 in labels with no predicted samples. Use `zero_division` parameter to control this behavior.\n",
      "  _warn_prf(average, modifier, f\"{metric.capitalize()} is\", len(result))\n",
      "c:\\Users\\Konrad\\AppData\\Local\\Programs\\Python\\Python311\\Lib\\site-packages\\sklearn\\metrics\\_classification.py:1509: UndefinedMetricWarning: Precision is ill-defined and being set to 0.0 in labels with no predicted samples. Use `zero_division` parameter to control this behavior.\n",
      "  _warn_prf(average, modifier, f\"{metric.capitalize()} is\", len(result))\n",
      "c:\\Users\\Konrad\\AppData\\Local\\Programs\\Python\\Python311\\Lib\\site-packages\\sklearn\\metrics\\_classification.py:1509: UndefinedMetricWarning: Precision is ill-defined and being set to 0.0 in labels with no predicted samples. Use `zero_division` parameter to control this behavior.\n",
      "  _warn_prf(average, modifier, f\"{metric.capitalize()} is\", len(result))\n"
     ]
    },
    {
     "name": "stdout",
     "output_type": "stream",
     "text": [
      "              precision    recall  f1-score   support\n",
      "\n",
      "           0       0.00      0.00      0.00       258\n",
      "           1       0.44      0.92      0.60       713\n",
      "           2       0.41      0.09      0.14       652\n",
      "\n",
      "    accuracy                           0.44      1623\n",
      "   macro avg       0.28      0.33      0.25      1623\n",
      "weighted avg       0.36      0.44      0.32      1623\n",
      "\n"
     ]
    },
    {
     "data": {
      "image/png": "[encoded data removed]",
      "text/plain": [
       "<Figure size 640x480 with 2 Axes>"
      ]
     },
     "metadata": {},
     "output_type": "display_data"
    }
   ],
   "source": [
    "lr_sentiment = train_lr(sentiment_train_ds)\n",
    "evaluate_lr(lr_sentiment, sentiment_val_ds)"
   ]
  },
  {
   "cell_type": "markdown",
   "metadata": {
    "id": "8neBnDzU-4o9"
   },
   "source": [
    "## Ewaluacja modeli na danych testowych dla zjawiska ZJAWISKO_1 (2 pkt.)"
   ]
  },
  {
   "cell_type": "code",
   "execution_count": null,
   "metadata": {
    "id": "7wkbdG93_FxE"
   },
   "outputs": [],
   "source": [
    "#TODO"
   ]
  },
  {
   "cell_type": "markdown",
   "metadata": {
    "id": "qIHyGqMM_HaE"
   },
   "source": [
    "## Ewaluacja modeli na danych testowych dla zjawiska ZJAWISKO_2 (2 pkt.)"
   ]
  },
  {
   "cell_type": "code",
   "execution_count": null,
   "metadata": {
    "id": "MQ8yTGuu_Ird"
   },
   "outputs": [],
   "source": [
    "#TODO"
   ]
  }
 ],
 "metadata": {
  "colab": {
   "collapsed_sections": [],
   "name": "lab09.ipynb",
   "provenance": [],
   "toc_visible": true
  },
  "kernelspec": {
   "display_name": "Python 3 (ipykernel)",
   "language": "python",
   "name": "python3"
  },
  "language_info": {
   "codemirror_mode": {
    "name": "ipython",
    "version": 3
   },
   "file_extension": ".py",
   "mimetype": "text/x-python",
   "name": "python",
   "nbconvert_exporter": "python",
   "pygments_lexer": "ipython3",
   "version": "3.11.2"
  }
 },
 "nbformat": 4,
 "nbformat_minor": 0
}

{
  "cells": [
    {
      "cell_type": "markdown",
      "metadata": {
        "id": "60IzlMsuY2w4"
      },
      "source": [
        "# Wstęp\n",
        "Zadanie 8 obejmuje zagadnienie segmentacji obrazów i wprowadza konwolucyjne modele o architekturze enkoder-dekoder. Modele takie wykorzystują konwolucje i downsampling aby uzyskać mapę cech o mniejszej rozdzielczości (enkoder), a następnie \"dekodują\" otrzymaną ją z powrotem do większej rozdzielczości aby wydobyć w rozdzielczości oryginalnego obrazka interesujące nas informacje semantyczne - np. segmentację obrazka na poszczególne obiekty. Architektury tego typu mają również zastosowania w modelach generatywnych, w zadaniach które ogólnie określamy jako *image to image translation*."
      ]
    },
    {
      "cell_type": "markdown",
      "metadata": {
        "id": "dWre4lMJesof"
      },
      "source": [
        "# Cel ćwiczenia\n",
        "\n",
        "Celem ćwiczenia jest poznanie\n",
        "\n",
        "\n",
        "\n",
        "*   metod upsamplingu w sieciach konwolucyjnych\n",
        "*   architektur konwolucyjnych o strukturze enkoder-dekoder\n",
        "*   wykorzystania sieci głębokich w segmentacji danych obrazowych\n",
        "\n",
        "\n",
        "\n"
      ]
    },
    {
      "cell_type": "markdown",
      "metadata": {
        "id": "RR_sgwz9lWmi"
      },
      "source": [
        "# Upsampling w sieciach konwolucyjnych\n",
        "\n",
        "Na laboratorium 5 dowiedzieliśmy się już, że do zmniejszania rozdzielczości mapy cech możemy wykorzystać dwa podejścia - pooling lub warstwę konwolucyjną z odpowiednim parametrem `stride`. Podobnie jest ze zwiększaniem rozdzielczości.\n",
        "\n",
        "Wersja prostsza, odwrotność poolingu, to `torch.nn.Upsample`. Jest to pozbawiona uczących się parametrów klasa dająca wybór trybu interpolacji."
      ]
    },
    {
      "cell_type": "code",
      "execution_count": 1,
      "metadata": {
        "colab": {
          "base_uri": "https://localhost:8080/"
        },
        "id": "SDwfWomRl8wL",
        "outputId": "621631c9-e330-48e1-d387-a1adb51606b7"
      },
      "outputs": [
        {
          "output_type": "execute_result",
          "data": {
            "text/plain": [
              "torch.Size([3, 3, 64, 64])"
            ]
          },
          "metadata": {},
          "execution_count": 1
        }
      ],
      "source": [
        "import torch\n",
        "\n",
        "upsampler = torch.nn.Upsample(scale_factor=2)\n",
        "\n",
        "dummy_input = torch.zeros((3,3,32,32))\n",
        "upsampler(dummy_input).shape"
      ]
    },
    {
      "cell_type": "markdown",
      "metadata": {
        "id": "utxlxvxcl8ar"
      },
      "source": [
        "Klasa `torch.nn.ConvTranspose2d` to natomiast ucząca się operacja \"odwracania\" konwolucji. Jej relacja wymiarów wejście-wyjście powinna być taka, jak wyjście do wejścia dla warstwy `torch.nn.Conv2d` o analogicznych parametrach konstruktora. Innymi słowy, jeśli tensor przepuścimy przez konwolucję, a następnie konwolucję transponowaną, oczekujemy powrotu do początkowej szerokości i wysokości - o ile oczywiście parametry tych dwóch warstw będą się ze sobą zgadzać.\n",
        "\n",
        "Konwolucja transponowana wprowadza dodatkowy parametr `output_padding`. Jest on potrzebny dlatego, że ze względu na zaokrąglanie wymiarów dla zwyczajnej konwolucji wykorzystującej `stride>1`, na podstawie wymiaru jej wyjścia nie da się jednoznacznie określić wymiaru jej wejścia. Aby spełnić założenie że warstwa `torch.nn.ConvTranspose2d` odwraca zmianę wymiarów której dokonuje `torch.nn.Conv2d`, potrzebny jest więc dodatkowy parametr pozwalający doprecyzować oczekiwany rozmiar. W razie problemów z uzyskaniem właściwego rozmiaru, dokumentacja torcha podaje konkrenty wzór na zależność między parametrami warstwy a szeokością i wysokością jej wyniku.\n",
        "\n",
        "https://pytorch.org/docs/stable/generated/torch.nn.ConvTranspose2d.html"
      ]
    },
    {
      "cell_type": "code",
      "execution_count": 2,
      "metadata": {
        "id": "W_3YLljknltt",
        "colab": {
          "base_uri": "https://localhost:8080/"
        },
        "outputId": "49c539af-98d4-413a-9433-95b06d84b0d1"
      },
      "outputs": [
        {
          "output_type": "stream",
          "name": "stdout",
          "text": [
            "kształt po upsamplingu: torch.Size([3, 3, 64, 64])\n",
            "kształt po konwolucji: torch.Size([3, 3, 16, 16])\n",
            "kształt po konwolucji i konw. transponowanej: torch.Size([3, 3, 31, 31])\n",
            "j.w., ale z output_padding: torch.Size([3, 3, 32, 32])\n"
          ]
        }
      ],
      "source": [
        "upsampler = torch.nn.ConvTranspose2d(3,3,2, stride=2)\n",
        "\n",
        "dummy_input = torch.zeros((3,3,32,32))\n",
        "\n",
        "print(f\"kształt po upsamplingu: {upsampler(dummy_input).shape}\")\n",
        "\n",
        "conv = torch.nn.Conv2d(3,3,3, stride=2, padding=1)\n",
        "deconv = torch.nn.ConvTranspose2d(3,3,3, stride=2, padding=1)\n",
        "fixed_deconv = torch.nn.ConvTranspose2d(3,3,3, stride=2, padding=1, output_padding=1)\n",
        "\n",
        "print(f\"kształt po konwolucji: {conv(dummy_input).shape}\")\n",
        "print(f\"kształt po konwolucji i konw. transponowanej: {deconv(conv(dummy_input)).shape}\")\n",
        "print(f\"j.w., ale z output_padding: {fixed_deconv(conv(dummy_input)).shape}\")"
      ]
    },
    {
      "cell_type": "markdown",
      "metadata": {
        "id": "n1A6SuJZqgBg"
      },
      "source": [
        "# Segmentacja obrazu\n",
        "\n",
        "Model enkoder-dekoder testować będziemy w zadaniu nadzorowanej segmentacji. Oznacza to, że dla obrazu wejściowego musimy znaleźć etykiety ze z góry wyznaczonego zbioru, przewidujemy je jednak nie dla całego obrazu, a na poziomie każdego piksela. Skorzystamy z dostępnego w `torchvision.datasets` zbioru VOC. Najpierw jednak musimy zdefiniować transformację danych, kóra będzie nieco bardziej skomplikowana niż do tej pory.\n",
        "\n",
        "Ponieważ etykiety są podane również jako obraz, trzeba pamiętać, że augmentacje losowe muszą zgadzać się pomiędzy obrazkiem a etykietą. Niestety, każde wywołanie funkcji w standardowym przepływie danych z wykorzystaniem `transforms` losuje augmentację na nowo. Aby uzyskać identyczną augmentację, konieczne będzie wykorzystanie funkcji z `torchvision.transforms.functional`.\n",
        "\n",
        "Druga istotna zmiana to konwersja do tensora. Aby zachować `target` jako tensor całkowitoliczbowy, musimy zastosować własną alternatywę dla ToTensor(), jako że `ToTensor` zawsze przekształca obrazy do tensora zmiennmoprzecinkowego w zakresie [0,1]."
      ]
    },
    {
      "cell_type": "markdown",
      "metadata": {
        "id": "DZiK62OuxsoB"
      },
      "source": [
        "# Zadanie 1\n",
        "\n",
        "Zdefiniuj transformację, która dla pary wejściowej `image, target` zwraca zaugmentowane w identyczny sposób obraz i etykiety. Transformacja powinna obejmować:\n",
        "\n",
        "*   dowolną augmentację na danych wejściowych\n",
        "*   padding to stałego rozmiaru (w przypadku etykiet, padować trzeba wartością 255)\n",
        "*   konwersję do tensora - zmiennoprzecinkowego dla obrazu, całkowitoliczbowego dla etykiety\n",
        "\n",
        "Zdefiniuj również odpowiednią transformację dla zbioru testowego, pamiętając że dane testowe nie powinny byc augmentowane.\n",
        "\n"
      ]
    },
    {
      "cell_type": "code",
      "execution_count": 43,
      "metadata": {
        "id": "Kd2R0l8aajz6"
      },
      "outputs": [],
      "source": [
        "import torchvision.datasets as datasets\n",
        "import torchvision.transforms as transforms\n",
        "import torchvision.transforms.functional as TF\n",
        "import numpy as np\n",
        "import PIL\n",
        "\n",
        "def pair_transforms(image, target):\n",
        "\n",
        "  # początkowy resize jest dokonany żeby zmniejszyć koszt obliczeniowy na potrzeby ograniczeń laboratorium\n",
        "  # standardowo pracując na zbiorze nie dokonalibyśmy tego przekształcenia!\n",
        "  resize = transforms.Resize((image.size[1]//4,image.size[0]//4), PIL.Image.NEAREST)\n",
        "  image = resize(image)\n",
        "  target = resize(target)\n",
        "\n",
        "  translate = np.random.randint(-64,64,2)\n",
        "  image = TF.affine(image, angle=0, translate=translate.tolist(), scale=1, shear=0)\n",
        "  target = TF.affine(target, angle=0, translate=translate.tolist(), scale=1, shear=0)\n",
        "\n",
        "  # padding to 255\n",
        "  padded_size = (256, 256)\n",
        "  padding_value = 255\n",
        "  out_image = TF.pad(image, padding=(0, 0, padded_size[0] - image.size[0], padded_size[1] - image.size[1]), padding_mode='constant')\n",
        "  out_target = TF.pad(target, padding=(0, 0, padded_size[0] - target.size[0], padded_size[1] - target.size[1]), fill=padding_value, padding_mode='constant')\n",
        "\n",
        "  out_image = TF.to_tensor(out_image)\n",
        "  out_target = torch.tensor(np.array(out_target)).long()\n",
        "\n",
        "\n",
        "  # ponieważ VOC jest trudnym zbiorem, przedefiniujmy problem\n",
        "  # zamiast identyfikować wszystkie \"rozpoznawalne\" obiekty, tworzymy etykiety klasyfikacji tło-obiekt\n",
        "  out_target = torch.where(torch.logical_or(out_target==0, out_target==255),out_target,1)\n",
        "\n",
        "  return out_image, out_target\n",
        "\n",
        "\n",
        "def test_pair_transforms(image, target):\n",
        "\n",
        "  # początkowy resize jest dokonany żeby zmniejszyć koszt obliczeniowy na potrzeby ograniczeń laboratorium\n",
        "  # standardowo pracując na zbiorze nie dokonalibyśmy tego przekształcenia!\n",
        "  resize = transforms.Resize((image.size[1]//4,image.size[0]//4), PIL.Image.NEAREST)\n",
        "  image = resize(image)\n",
        "  target = resize(target)\n",
        "\n",
        "  # padding to 255\n",
        "  padded_size = (256, 256)\n",
        "  padding_value = 255\n",
        "  out_image = TF.pad(image, padding=(0, 0, padded_size[0] - image.size[0], padded_size[1] - image.size[1]), padding_mode='constant')\n",
        "  out_target = TF.pad(target, padding=(0, 0, padded_size[0] - target.size[0], padded_size[1] - target.size[1]), fill=padding_value, padding_mode='constant')\n",
        "\n",
        "  out_image = TF.to_tensor(out_image)\n",
        "  out_target = torch.tensor(np.array(out_target)).long()\n",
        "\n",
        "\n",
        "  # ponieważ VOC jest trudnym zbiorem, przedefiniujmy problem\n",
        "  # zamiast identyfikować wszystkie \"rozpoznawalne\" obiekty, tworzymy etykiety klasyfikacji tło-obiekt\n",
        "  out_target = torch.where(torch.logical_or(out_target==0, out_target==255),out_target,1)\n",
        "\n",
        "  return out_image, out_target"
      ]
    },
    {
      "cell_type": "markdown",
      "metadata": {
        "id": "61YHGov9q1mv"
      },
      "source": [
        "Załaduj zbiór danych ze zeefiniowaną transformacją, a następnie zweryfikuj, że augmentacja zgadza się pomiędzy obrazem a etykietą."
      ]
    },
    {
      "cell_type": "code",
      "execution_count": 62,
      "metadata": {
        "colab": {
          "base_uri": "https://localhost:8080/"
        },
        "id": "JwTjN_rvh1HY",
        "outputId": "a3e2bc79-eca2-4ee1-d6df-5af2832f719a"
      },
      "outputs": [
        {
          "output_type": "stream",
          "name": "stdout",
          "text": [
            "Using downloaded and verified file: root/VOCtrainval_11-May-2012.tar\n",
            "Extracting root/VOCtrainval_11-May-2012.tar to root\n"
          ]
        }
      ],
      "source": [
        "data = datasets.VOCSegmentation(\"root\", download=True, transforms=pair_transforms)"
      ]
    },
    {
      "cell_type": "code",
      "execution_count": 63,
      "metadata": {
        "id": "OAaJ5hl9fFWi",
        "colab": {
          "base_uri": "https://localhost:8080/"
        },
        "outputId": "d24e28ce-b46f-4b1b-9bf9-e7c966c5fc26"
      },
      "outputs": [
        {
          "output_type": "stream",
          "name": "stdout",
          "text": [
            "Using downloaded and verified file: root/VOCtrainval_11-May-2012.tar\n",
            "Extracting root/VOCtrainval_11-May-2012.tar to root\n"
          ]
        }
      ],
      "source": [
        "test_data = datasets.VOCSegmentation(\"root\", download=True, image_set=\"val\", transforms=test_pair_transforms)"
      ]
    },
    {
      "cell_type": "code",
      "execution_count": 64,
      "metadata": {
        "id": "ZjsiQptQcMCS",
        "colab": {
          "base_uri": "https://localhost:8080/",
          "height": 975
        },
        "outputId": "f6e16c19-e894-4203-ddb4-b675535e36bf"
      },
      "outputs": [
        {
          "output_type": "display_data",
          "data": {
            "text/plain": [
              "<Figure size 640x480 with 1 Axes>"
            ],
            "image/png": "[encoded data removed]"
          },
          "metadata": {}
        },
        {
          "output_type": "display_data",
          "data": {
            "text/plain": [
              "<Figure size 640x480 with 1 Axes>"
            ],
            "image/png": "[encoded data removed]"
          },
          "metadata": {}
        },
        {
          "output_type": "stream",
          "name": "stdout",
          "text": [
            "tensor([[  0,   0,   0,  ..., 255, 255, 255],\n",
            "        [  0,   0,   0,  ..., 255, 255, 255],\n",
            "        [  0,   0,   0,  ..., 255, 255, 255],\n",
            "        ...,\n",
            "        [255, 255, 255,  ..., 255, 255, 255],\n",
            "        [255, 255, 255,  ..., 255, 255, 255],\n",
            "        [255, 255, 255,  ..., 255, 255, 255]])\n"
          ]
        }
      ],
      "source": [
        "from matplotlib import pyplot as plt\n",
        "\n",
        "image, label = data[0]\n",
        "plt.imshow(image.permute(1,2,0))\n",
        "plt.show()\n",
        "plt.imshow(label)\n",
        "plt.show()\n",
        "print(label)"
      ]
    },
    {
      "cell_type": "markdown",
      "metadata": {
        "id": "NlFMUusBsaxN"
      },
      "source": [
        "Zauważ, że wartością 255 oznaczone są \"krawędzie\" pomiędzy właściwymi etykietami. Etykieta 255 nie powinna być brana pod uwagę przy wyliczaniu kosztu i metryk jakości segmentacji."
      ]
    },
    {
      "cell_type": "markdown",
      "metadata": {
        "id": "Yd_Crryr3BAs"
      },
      "source": [
        "# Architektura enkoder-dekoder\n",
        "\n",
        "\n",
        "Możemy przejść do zdefiniowania architektury enkoder-dekoder. Achitektura ta powinna przetworzyć obraz do niższej rozdzielczości, a następnie zwiększyć jego wymiar z powrotem do oryginalnego. Podobnie jak w standardowych sieciach konwolucyjnych do klasyfikacji, przydatne jest zwiększanie liczby kanałów wraz ze zmniejszaniem rozdzielczości. Pozwala to na zachowanie informacji po downsamplingu, oraz daje możliwość wyuczenia najbardziej złożonych zależności tam gdzie jest to najbardziej istotne, czyli w warstwach operujących na najniższej rozdzielczości gdzie pole recepcyjne filtra obejmuje największy fragment obrazu. Przy upsamplingu, liczba kanałów typowo będzie się zmniejszać. Dodatkowo, skrótowe połączenia według schematu: pierwsza warstwa do ostatniej, druga do przedostaniej etc. są typowym elementem takich architektur."
      ]
    },
    {
      "cell_type": "markdown",
      "metadata": {
        "id": "0_QcHzmmqSwG"
      },
      "source": [
        "# Zadanie 2\n",
        "\n",
        "Zmodyfikuj funkcję forward klasy SimpleEncoderDecoder tak, aby dodać połączenia skrótowe między warstwami o tej samej rozdzielczości.."
      ]
    },
    {
      "cell_type": "code",
      "execution_count": 51,
      "metadata": {
        "id": "MmNTBPI-wJLN"
      },
      "outputs": [],
      "source": [
        "from typing import List\n",
        "\n",
        "class SimpleEncoderDecoder(torch.nn.Module):\n",
        "  def __init__(self, channels, out_labels):\n",
        "    super().__init__()\n",
        "    self.conv_1 = torch.nn.Conv2d(3, channels[0], 3, padding=1)\n",
        "    self.conv_2 = torch.nn.Conv2d(channels[0], channels[1], 3, padding=1)\n",
        "    self.conv_3 = torch.nn.Conv2d(channels[1], channels[2], 3, padding=1)\n",
        "    self.conv_4 = torch.nn.Conv2d(channels[2], channels[2], 3, padding=1)\n",
        "    self.up_conv1 = torch.nn.ConvTranspose2d(channels[2], channels[1], 2, stride=2)\n",
        "    self.up_conv2 = torch.nn.ConvTranspose2d(channels[1], channels[0], 2, stride=2)\n",
        "    self.up_conv3 = torch.nn.ConvTranspose2d(channels[0], out_labels, 2, stride=2)\n",
        "    self.pool = torch.nn.MaxPool2d(2)\n",
        "    self.act = torch.nn.ReLU()\n",
        "    self.bnorm = torch.nn.BatchNorm2d(channels[2])\n",
        "\n",
        "  def forward(self, x):\n",
        "    # Encoder\n",
        "    x1 = self.act(self.conv_1(x))\n",
        "    x_down1 = self.pool(x1)\n",
        "    x2 = self.act(self.conv_2(x_down1))\n",
        "    x_down2 = self.pool(x2)\n",
        "    x3 = self.act(self.conv_3(x_down2))\n",
        "    x_down3 = self.pool(x3)\n",
        "    x3_bnorm = self.bnorm(x_down3)\n",
        "    x4 = self.act(self.conv_4(x3_bnorm))\n",
        "\n",
        "    # Decoder\n",
        "    x_up1 = self.act(self.up_conv1(x4) + x_down2)\n",
        "    x_up2 = self.act(self.up_conv2(x_up1) + x_down1)\n",
        "    x_up3 = self.act(self.up_conv3(x_up2))\n",
        "\n",
        "    return x_up3"
      ]
    },
    {
      "cell_type": "markdown",
      "metadata": {
        "id": "6hKbugh8_iH6"
      },
      "source": [
        "Zweryfikuj działanie sieci:"
      ]
    },
    {
      "cell_type": "code",
      "execution_count": 52,
      "metadata": {
        "id": "sgs1IXSA_mLy"
      },
      "outputs": [],
      "source": [
        "model = SimpleEncoderDecoder([32,64,128], 21).cuda()\n",
        "\n",
        "dummy_data = torch.zeros((32,3,64,64)).cuda()\n",
        "\n",
        "assert(model(dummy_data).shape==(32,21,64,64))"
      ]
    },
    {
      "cell_type": "markdown",
      "metadata": {
        "id": "ZN00sFAb74QO"
      },
      "source": [
        "Zdefinujmy kod pomocniczy - jak zwykle można zastąpić własnym, uwzględniającym ulepszenia z poprzednich laboratoriów. Zauważ, że ze funkcja entropii krzyżowej nie wymaga adaptacji do zadania. Natomiast implementacja `count_correct` została zmieniona tak, aby nie zliczać pikseli oznaczonych wartością 255."
      ]
    },
    {
      "cell_type": "code",
      "execution_count": 53,
      "metadata": {
        "id": "Q1W7wDlh5se4"
      },
      "outputs": [],
      "source": [
        "import torchvision\n",
        "import torchvision.transforms as transforms\n",
        "import torch.nn as nn\n",
        "import torch.optim as optim\n",
        "from torch.utils.data import DataLoader\n",
        "from typing import Tuple\n",
        "from tqdm import tqdm\n",
        "\n",
        "def count_correct(\n",
        "    y_pred: torch.Tensor, y_true: torch.Tensor\n",
        ") -> torch.Tensor:\n",
        "    preds = torch.argmax(y_pred, dim=1)\n",
        "    not_bg = (y_true != 255).float()\n",
        "    return ((preds == y_true).float() * not_bg).sum() / not_bg.sum()\n",
        "\n",
        "def validate(\n",
        "    model: nn.Module,\n",
        "    loss_fn: torch.nn.CrossEntropyLoss,\n",
        "    dataloader: DataLoader\n",
        ") -> Tuple[torch.Tensor, torch.Tensor]:\n",
        "    loss = 0\n",
        "    correct = 0\n",
        "    all = 0\n",
        "    for X_batch, y_batch in dataloader:\n",
        "        y_pred = model(X_batch.cuda())\n",
        "        all += 1\n",
        "        loss += loss_fn(y_pred, y_batch.cuda()).sum()\n",
        "        correct += count_correct(y_pred, y_batch.cuda())\n",
        "    return loss / all, correct / all\n",
        "\n",
        "def fit(\n",
        "    model: nn.Module, optimiser: optim.Optimizer,\n",
        "    loss_fn: torch.nn.CrossEntropyLoss,\n",
        "    train_dl: DataLoader,\n",
        "    val_dl: DataLoader,\n",
        "    epochs: int,\n",
        "    print_metrics: bool = False,\n",
        "    name: str ='',\n",
        "    patience: int = 5,\n",
        "):\n",
        "    last_better_epoch = 0\n",
        "    low_val_loss = float('inf')\n",
        "    low_acc_loss = float('inf')\n",
        "    for epoch in range(epochs):\n",
        "        model.train()\n",
        "        for X_batch, y_batch in tqdm(train_dl):\n",
        "            y_pred = model(X_batch.cuda())\n",
        "            loss = loss_fn(y_pred, y_batch.cuda())\n",
        "\n",
        "            loss.backward()\n",
        "            optimiser.step()\n",
        "            optimiser.zero_grad()\n",
        "\n",
        "        model.eval()\n",
        "        with torch.no_grad():\n",
        "            train_loss, train_acc = validate(model, loss_fn, train_dl)\n",
        "            val_loss, val_acc = validate(model, loss_fn, val_dl)\n",
        "\n",
        "            if val_loss < low_val_loss:\n",
        "                low_val_loss = val_loss\n",
        "                low_acc_loss = val_acc\n",
        "                last_better_epoch = epoch\n",
        "\n",
        "            if patience is not None and epoch - last_better_epoch > patience:\n",
        "                print(f\"Early stopping on epoch {epoch}\")\n",
        "                break\n",
        "\n",
        "            if print_metrics:\n",
        "                print(\n",
        "                    f\"Epoch {name} {epoch}: \"\n",
        "                    f\"train loss = {train_loss:.3f} (acc: {train_acc:.3f}), \"\n",
        "                    f\"validation loss = {val_loss:.3f} (acc: {val_acc:.3f})\"\n",
        "                )\n",
        "\n",
        "    return low_val_loss, low_acc_loss"
      ]
    },
    {
      "cell_type": "markdown",
      "metadata": {
        "id": "XPh6_3GN8qbz"
      },
      "source": [
        "Wyucz sieć na danych z VOCSegmentation.\n",
        "\n",
        "Uwaga: VOCSegmentation to dość trudny zbiór, nie trzeba tu osiągać wyjątkowo dobrych wyników.\n",
        "\n"
      ]
    },
    {
      "cell_type": "code",
      "execution_count": 54,
      "metadata": {
        "id": "GdpVDFUt8uc6",
        "colab": {
          "base_uri": "https://localhost:8080/"
        },
        "outputId": "b713f156-6c8a-4e2e-ccef-10f9ee23f11b"
      },
      "outputs": [
        {
          "output_type": "stream",
          "name": "stderr",
          "text": [
            "100%|██████████| 46/46 [00:09<00:00,  4.94it/s]\n"
          ]
        },
        {
          "output_type": "stream",
          "name": "stdout",
          "text": [
            "Epoch  0: train loss = 0.444 (acc: 0.864), validation loss = 0.618 (acc: 0.729)\n"
          ]
        },
        {
          "output_type": "stream",
          "name": "stderr",
          "text": [
            "100%|██████████| 46/46 [00:09<00:00,  4.90it/s]\n"
          ]
        },
        {
          "output_type": "stream",
          "name": "stdout",
          "text": [
            "Epoch  1: train loss = 0.373 (acc: 0.863), validation loss = 0.579 (acc: 0.730)\n"
          ]
        },
        {
          "output_type": "stream",
          "name": "stderr",
          "text": [
            "100%|██████████| 46/46 [00:09<00:00,  5.01it/s]\n"
          ]
        },
        {
          "output_type": "stream",
          "name": "stdout",
          "text": [
            "Epoch  2: train loss = 0.367 (acc: 0.864), validation loss = 0.606 (acc: 0.731)\n"
          ]
        },
        {
          "output_type": "stream",
          "name": "stderr",
          "text": [
            "100%|██████████| 46/46 [00:09<00:00,  4.93it/s]\n"
          ]
        },
        {
          "output_type": "stream",
          "name": "stdout",
          "text": [
            "Epoch  3: train loss = 0.354 (acc: 0.867), validation loss = 0.564 (acc: 0.734)\n"
          ]
        },
        {
          "output_type": "stream",
          "name": "stderr",
          "text": [
            "100%|██████████| 46/46 [00:11<00:00,  4.04it/s]\n"
          ]
        },
        {
          "output_type": "stream",
          "name": "stdout",
          "text": [
            "Epoch  4: train loss = 0.362 (acc: 0.867), validation loss = 0.551 (acc: 0.738)\n"
          ]
        },
        {
          "output_type": "stream",
          "name": "stderr",
          "text": [
            "100%|██████████| 46/46 [00:08<00:00,  5.16it/s]\n"
          ]
        },
        {
          "output_type": "stream",
          "name": "stdout",
          "text": [
            "Epoch  5: train loss = 0.359 (acc: 0.868), validation loss = 0.600 (acc: 0.708)\n"
          ]
        },
        {
          "output_type": "stream",
          "name": "stderr",
          "text": [
            "100%|██████████| 46/46 [00:08<00:00,  5.26it/s]\n"
          ]
        },
        {
          "output_type": "stream",
          "name": "stdout",
          "text": [
            "Epoch  6: train loss = 0.361 (acc: 0.865), validation loss = 0.602 (acc: 0.695)\n"
          ]
        },
        {
          "output_type": "stream",
          "name": "stderr",
          "text": [
            "100%|██████████| 46/46 [00:09<00:00,  4.90it/s]\n"
          ]
        },
        {
          "output_type": "stream",
          "name": "stdout",
          "text": [
            "Epoch  7: train loss = 0.345 (acc: 0.878), validation loss = 0.550 (acc: 0.744)\n"
          ]
        },
        {
          "output_type": "stream",
          "name": "stderr",
          "text": [
            "100%|██████████| 46/46 [00:09<00:00,  4.99it/s]\n"
          ]
        },
        {
          "output_type": "stream",
          "name": "stdout",
          "text": [
            "Epoch  8: train loss = 0.354 (acc: 0.869), validation loss = 0.590 (acc: 0.696)\n"
          ]
        },
        {
          "output_type": "stream",
          "name": "stderr",
          "text": [
            "100%|██████████| 46/46 [00:09<00:00,  4.89it/s]\n"
          ]
        },
        {
          "output_type": "stream",
          "name": "stdout",
          "text": [
            "Epoch  9: train loss = 0.353 (acc: 0.874), validation loss = 0.601 (acc: 0.704)\n"
          ]
        },
        {
          "output_type": "stream",
          "name": "stderr",
          "text": [
            "100%|██████████| 46/46 [00:08<00:00,  5.26it/s]\n"
          ]
        },
        {
          "output_type": "stream",
          "name": "stdout",
          "text": [
            "Epoch  10: train loss = 0.348 (acc: 0.878), validation loss = 0.595 (acc: 0.710)\n"
          ]
        },
        {
          "output_type": "stream",
          "name": "stderr",
          "text": [
            "100%|██████████| 46/46 [00:09<00:00,  4.85it/s]\n"
          ]
        },
        {
          "output_type": "stream",
          "name": "stdout",
          "text": [
            "Epoch  11: train loss = 0.347 (acc: 0.880), validation loss = 0.528 (acc: 0.754)\n"
          ]
        },
        {
          "output_type": "stream",
          "name": "stderr",
          "text": [
            "100%|██████████| 46/46 [00:09<00:00,  5.01it/s]\n"
          ]
        },
        {
          "output_type": "stream",
          "name": "stdout",
          "text": [
            "Epoch  12: train loss = 0.347 (acc: 0.883), validation loss = 0.526 (acc: 0.758)\n"
          ]
        },
        {
          "output_type": "stream",
          "name": "stderr",
          "text": [
            "100%|██████████| 46/46 [00:09<00:00,  5.03it/s]\n"
          ]
        },
        {
          "output_type": "stream",
          "name": "stdout",
          "text": [
            "Epoch  13: train loss = 0.343 (acc: 0.882), validation loss = 0.531 (acc: 0.761)\n"
          ]
        },
        {
          "output_type": "stream",
          "name": "stderr",
          "text": [
            "100%|██████████| 46/46 [00:09<00:00,  5.04it/s]\n"
          ]
        },
        {
          "output_type": "stream",
          "name": "stdout",
          "text": [
            "Epoch  14: train loss = 0.340 (acc: 0.883), validation loss = 0.525 (acc: 0.757)\n"
          ]
        },
        {
          "output_type": "stream",
          "name": "stderr",
          "text": [
            "100%|██████████| 46/46 [00:08<00:00,  5.32it/s]\n"
          ]
        },
        {
          "output_type": "stream",
          "name": "stdout",
          "text": [
            "Epoch  15: train loss = 0.340 (acc: 0.883), validation loss = 0.522 (acc: 0.765)\n"
          ]
        },
        {
          "output_type": "stream",
          "name": "stderr",
          "text": [
            "100%|██████████| 46/46 [00:09<00:00,  4.92it/s]\n"
          ]
        },
        {
          "output_type": "stream",
          "name": "stdout",
          "text": [
            "Epoch  16: train loss = 0.344 (acc: 0.879), validation loss = 0.523 (acc: 0.761)\n"
          ]
        },
        {
          "output_type": "stream",
          "name": "stderr",
          "text": [
            "100%|██████████| 46/46 [00:09<00:00,  5.00it/s]\n"
          ]
        },
        {
          "output_type": "stream",
          "name": "stdout",
          "text": [
            "Epoch  17: train loss = 0.345 (acc: 0.878), validation loss = 0.523 (acc: 0.759)\n"
          ]
        },
        {
          "output_type": "stream",
          "name": "stderr",
          "text": [
            "100%|██████████| 46/46 [00:09<00:00,  4.97it/s]\n"
          ]
        },
        {
          "output_type": "stream",
          "name": "stdout",
          "text": [
            "Epoch  18: train loss = 0.339 (acc: 0.884), validation loss = 0.530 (acc: 0.760)\n"
          ]
        },
        {
          "output_type": "stream",
          "name": "stderr",
          "text": [
            "100%|██████████| 46/46 [00:08<00:00,  5.18it/s]\n"
          ]
        },
        {
          "output_type": "stream",
          "name": "stdout",
          "text": [
            "Epoch  19: train loss = 0.330 (acc: 0.891), validation loss = 0.526 (acc: 0.757)\n"
          ]
        },
        {
          "output_type": "stream",
          "name": "stderr",
          "text": [
            "100%|██████████| 46/46 [00:09<00:00,  5.11it/s]\n"
          ]
        },
        {
          "output_type": "stream",
          "name": "stdout",
          "text": [
            "Epoch  20: train loss = 0.340 (acc: 0.884), validation loss = 0.520 (acc: 0.762)\n"
          ]
        },
        {
          "output_type": "stream",
          "name": "stderr",
          "text": [
            "100%|██████████| 46/46 [00:09<00:00,  4.94it/s]\n"
          ]
        },
        {
          "output_type": "stream",
          "name": "stdout",
          "text": [
            "Epoch  21: train loss = 0.367 (acc: 0.887), validation loss = 0.543 (acc: 0.741)\n"
          ]
        },
        {
          "output_type": "stream",
          "name": "stderr",
          "text": [
            "100%|██████████| 46/46 [00:09<00:00,  5.01it/s]\n"
          ]
        },
        {
          "output_type": "stream",
          "name": "stdout",
          "text": [
            "Epoch  22: train loss = 0.332 (acc: 0.892), validation loss = 0.514 (acc: 0.770)\n"
          ]
        },
        {
          "output_type": "stream",
          "name": "stderr",
          "text": [
            "100%|██████████| 46/46 [00:09<00:00,  5.00it/s]\n"
          ]
        },
        {
          "output_type": "stream",
          "name": "stdout",
          "text": [
            "Epoch  23: train loss = 0.339 (acc: 0.887), validation loss = 0.509 (acc: 0.769)\n"
          ]
        },
        {
          "output_type": "stream",
          "name": "stderr",
          "text": [
            "100%|██████████| 46/46 [00:08<00:00,  5.23it/s]\n"
          ]
        },
        {
          "output_type": "stream",
          "name": "stdout",
          "text": [
            "Epoch  24: train loss = 0.348 (acc: 0.878), validation loss = 0.519 (acc: 0.762)\n"
          ]
        },
        {
          "output_type": "stream",
          "name": "stderr",
          "text": [
            "100%|██████████| 46/46 [00:09<00:00,  4.93it/s]\n"
          ]
        },
        {
          "output_type": "stream",
          "name": "stdout",
          "text": [
            "Epoch  25: train loss = 0.334 (acc: 0.891), validation loss = 0.548 (acc: 0.746)\n"
          ]
        },
        {
          "output_type": "stream",
          "name": "stderr",
          "text": [
            "100%|██████████| 46/46 [00:09<00:00,  4.96it/s]\n"
          ]
        },
        {
          "output_type": "stream",
          "name": "stdout",
          "text": [
            "Epoch  26: train loss = 0.325 (acc: 0.896), validation loss = 0.525 (acc: 0.761)\n"
          ]
        },
        {
          "output_type": "stream",
          "name": "stderr",
          "text": [
            "100%|██████████| 46/46 [00:09<00:00,  4.97it/s]\n"
          ]
        },
        {
          "output_type": "stream",
          "name": "stdout",
          "text": [
            "Epoch  27: train loss = 0.328 (acc: 0.894), validation loss = 0.537 (acc: 0.756)\n"
          ]
        },
        {
          "output_type": "stream",
          "name": "stderr",
          "text": [
            "100%|██████████| 46/46 [00:08<00:00,  5.31it/s]\n"
          ]
        },
        {
          "output_type": "stream",
          "name": "stdout",
          "text": [
            "Epoch  28: train loss = 0.325 (acc: 0.901), validation loss = 0.529 (acc: 0.775)\n"
          ]
        },
        {
          "output_type": "stream",
          "name": "stderr",
          "text": [
            "100%|██████████| 46/46 [00:09<00:00,  4.99it/s]\n"
          ]
        },
        {
          "output_type": "stream",
          "name": "stdout",
          "text": [
            "Early stopping on epoch 29\n"
          ]
        }
      ],
      "source": [
        "model = SimpleEncoderDecoder([32,64,128], 2).cuda()\n",
        "\n",
        "loss = torch.nn.CrossEntropyLoss(ignore_index=255)\n",
        "train_dl = DataLoader(data, batch_size=32, shuffle=True)\n",
        "test_dl = DataLoader(test_data, batch_size=32)\n",
        "optimizer = optim.Adam(model.parameters())\n",
        "\n",
        "result = fit(model, optimizer, loss, train_dl, test_dl, 50, print_metrics=True)"
      ]
    },
    {
      "cell_type": "markdown",
      "metadata": {
        "id": "tr8S8FTfvWuD"
      },
      "source": [
        "# Zadanie 3\n",
        "\n",
        "Zdefiniuj parametryzowalną klasę EncoderDecoder, umożliwiającą wybór liczby warstw i liczby kanałów w poszczególnych warstwach. Klasa powinna dodawać połączenia skrótowe pomiędzy warstwami w początkowej a końcowej części architektury o tej samej rozdzielczości. Połączenia skrótowe powinny działać przez konkatenację.\n",
        "\n",
        "Klasa powinna umożlwiać wybór pomiędzy upsamplingiem z wykorzsytaniem `ConvTranspose2D` a `torch.nn.Upsample`. Sprawdź wyniki tej drugiej opcji z parametrami analogicznymi do testów `SimpleEncoderDecoder` na segmentacji VOC.\n",
        "\n"
      ]
    },
    {
      "cell_type": "code",
      "execution_count": 134,
      "metadata": {
        "id": "giFyVcpXZvN3"
      },
      "outputs": [],
      "source": [
        "class EncoderDecoder(torch.nn.Module):\n",
        "    def __init__(self, channels, out_labels, is_upsample=False):\n",
        "        super().__init__()\n",
        "\n",
        "        self.conv_1 = torch.nn.Conv2d(3, channels[0], 3, padding=1)\n",
        "        self.convs = torch.nn.ModuleList([\n",
        "            torch.nn.Conv2d(channels[i], channels[i+1], 3, padding=1)\n",
        "            for i in range(len(channels)-1)\n",
        "        ])\n",
        "        self.conv_last = torch.nn.Conv2d(channels[-1], channels[-1], 3, padding=1)\n",
        "\n",
        "\n",
        "        self.act = torch.nn.ReLU()\n",
        "        self.pool = torch.nn.MaxPool2d(2)\n",
        "        self.bnorm = torch.nn.BatchNorm2d(channels[-1])\n",
        "\n",
        "        if not is_upsample:\n",
        "            self.up_convs = torch.nn.ModuleList([\n",
        "                torch.nn.ConvTranspose2d(channels[i+1], channels[i], 2, stride=2)\n",
        "                for i in reversed(range(len(channels)-1))\n",
        "            ])\n",
        "        else:\n",
        "            self.up_convs = torch.nn.ModuleList([nn.Sequential(\n",
        "                torch.nn.Conv2d(channels[i+1], channels[i], 3, padding=1),\n",
        "                torch.nn.Upsample(scale_factor=2, mode='bilinear', align_corners=True)\n",
        "            )\n",
        "                for i in reversed(range(len(channels)-1))\n",
        "            ])\n",
        "\n",
        "        self.final_up_conv = torch.nn.ConvTranspose2d(channels[0], out_labels, 2, stride=2) if not is_upsample else torch.nn.Upsample(scale_factor=2, mode='bilinear', align_corners=True)\n",
        "\n",
        "    def forward(self, x):\n",
        "        x = self.act(self.conv_1(x))\n",
        "        x = self.pool(x)\n",
        "        x_downs = [x]\n",
        "\n",
        "        for conv in self.convs:\n",
        "            x = self.act(conv(x))\n",
        "            x = self.pool(x)\n",
        "            x_downs.append(x)\n",
        "\n",
        "        x = self.bnorm(x)\n",
        "        x = self.act(self.conv_last(x))\n",
        "\n",
        "        for up_conv, x_down in zip(self.up_convs, reversed(x_downs[:-1])):\n",
        "            x = up_conv(x)\n",
        "            x = self.act(x + x_down)\n",
        "\n",
        "        return self.final_up_conv(x)"
      ]
    },
    {
      "cell_type": "code",
      "source": [
        "model = EncoderDecoder([32,64,128], 2, is_upsample=True).cuda()\n",
        "\n",
        "loss = torch.nn.CrossEntropyLoss(ignore_index=255)\n",
        "train_dl = DataLoader(data, batch_size=32, shuffle=True)\n",
        "test_dl = DataLoader(test_data, batch_size=32)\n",
        "optimizer = optim.Adam(model.parameters())\n",
        "\n",
        "result = fit(model, optimizer, loss, train_dl, test_dl, 50, print_metrics=True)"
      ],
      "metadata": {
        "colab": {
          "base_uri": "https://localhost:8080/"
        },
        "id": "eN1l0YPF3gg_",
        "outputId": "26f60947-e08d-4df0-c4c7-a621738d4fe5"
      },
      "execution_count": 137,
      "outputs": [
        {
          "output_type": "stream",
          "name": "stderr",
          "text": [
            "100%|██████████| 46/46 [00:09<00:00,  4.97it/s]\n"
          ]
        },
        {
          "output_type": "stream",
          "name": "stdout",
          "text": [
            "Epoch  0: train loss = 0.334 (acc: 0.861), validation loss = 0.670 (acc: 0.729)\n"
          ]
        },
        {
          "output_type": "stream",
          "name": "stderr",
          "text": [
            "100%|██████████| 46/46 [00:09<00:00,  4.80it/s]\n"
          ]
        },
        {
          "output_type": "stream",
          "name": "stdout",
          "text": [
            "Epoch  1: train loss = 0.337 (acc: 0.848), validation loss = 0.627 (acc: 0.632)\n"
          ]
        },
        {
          "output_type": "stream",
          "name": "stderr",
          "text": [
            "100%|██████████| 46/46 [00:09<00:00,  4.90it/s]\n"
          ]
        },
        {
          "output_type": "stream",
          "name": "stdout",
          "text": [
            "Epoch  2: train loss = 0.246 (acc: 0.876), validation loss = 0.557 (acc: 0.727)\n"
          ]
        },
        {
          "output_type": "stream",
          "name": "stderr",
          "text": [
            "100%|██████████| 46/46 [00:09<00:00,  4.92it/s]\n"
          ]
        },
        {
          "output_type": "stream",
          "name": "stdout",
          "text": [
            "Epoch  3: train loss = 0.245 (acc: 0.880), validation loss = 0.537 (acc: 0.757)\n"
          ]
        },
        {
          "output_type": "stream",
          "name": "stderr",
          "text": [
            "100%|██████████| 46/46 [00:09<00:00,  5.00it/s]\n"
          ]
        },
        {
          "output_type": "stream",
          "name": "stdout",
          "text": [
            "Epoch  4: train loss = 0.241 (acc: 0.882), validation loss = 0.477 (acc: 0.767)\n"
          ]
        },
        {
          "output_type": "stream",
          "name": "stderr",
          "text": [
            "100%|██████████| 46/46 [00:08<00:00,  5.20it/s]\n"
          ]
        },
        {
          "output_type": "stream",
          "name": "stdout",
          "text": [
            "Epoch  5: train loss = 0.234 (acc: 0.886), validation loss = 0.495 (acc: 0.753)\n"
          ]
        },
        {
          "output_type": "stream",
          "name": "stderr",
          "text": [
            "100%|██████████| 46/46 [00:09<00:00,  4.97it/s]\n"
          ]
        },
        {
          "output_type": "stream",
          "name": "stdout",
          "text": [
            "Epoch  6: train loss = 0.257 (acc: 0.866), validation loss = 0.629 (acc: 0.633)\n"
          ]
        },
        {
          "output_type": "stream",
          "name": "stderr",
          "text": [
            "100%|██████████| 46/46 [00:09<00:00,  4.93it/s]\n"
          ]
        },
        {
          "output_type": "stream",
          "name": "stdout",
          "text": [
            "Epoch  7: train loss = 0.230 (acc: 0.886), validation loss = 0.488 (acc: 0.765)\n"
          ]
        },
        {
          "output_type": "stream",
          "name": "stderr",
          "text": [
            "100%|██████████| 46/46 [00:08<00:00,  5.21it/s]\n"
          ]
        },
        {
          "output_type": "stream",
          "name": "stdout",
          "text": [
            "Epoch  8: train loss = 0.236 (acc: 0.887), validation loss = 0.478 (acc: 0.764)\n"
          ]
        },
        {
          "output_type": "stream",
          "name": "stderr",
          "text": [
            "100%|██████████| 46/46 [00:09<00:00,  4.92it/s]\n"
          ]
        },
        {
          "output_type": "stream",
          "name": "stdout",
          "text": [
            "Epoch  9: train loss = 0.237 (acc: 0.880), validation loss = 0.466 (acc: 0.771)\n"
          ]
        },
        {
          "output_type": "stream",
          "name": "stderr",
          "text": [
            "100%|██████████| 46/46 [00:09<00:00,  4.98it/s]\n"
          ]
        },
        {
          "output_type": "stream",
          "name": "stdout",
          "text": [
            "Epoch  10: train loss = 0.233 (acc: 0.888), validation loss = 0.466 (acc: 0.780)\n"
          ]
        },
        {
          "output_type": "stream",
          "name": "stderr",
          "text": [
            "100%|██████████| 46/46 [00:09<00:00,  4.87it/s]\n"
          ]
        },
        {
          "output_type": "stream",
          "name": "stdout",
          "text": [
            "Epoch  11: train loss = 0.241 (acc: 0.886), validation loss = 0.538 (acc: 0.715)\n"
          ]
        },
        {
          "output_type": "stream",
          "name": "stderr",
          "text": [
            "100%|██████████| 46/46 [00:09<00:00,  5.05it/s]\n"
          ]
        },
        {
          "output_type": "stream",
          "name": "stdout",
          "text": [
            "Epoch  12: train loss = 0.231 (acc: 0.886), validation loss = 0.538 (acc: 0.718)\n"
          ]
        },
        {
          "output_type": "stream",
          "name": "stderr",
          "text": [
            "100%|██████████| 46/46 [00:09<00:00,  4.90it/s]\n"
          ]
        },
        {
          "output_type": "stream",
          "name": "stdout",
          "text": [
            "Epoch  13: train loss = 0.230 (acc: 0.887), validation loss = 0.477 (acc: 0.768)\n"
          ]
        },
        {
          "output_type": "stream",
          "name": "stderr",
          "text": [
            "100%|██████████| 46/46 [00:09<00:00,  4.91it/s]\n"
          ]
        },
        {
          "output_type": "stream",
          "name": "stdout",
          "text": [
            "Epoch  14: train loss = 0.236 (acc: 0.886), validation loss = 0.484 (acc: 0.757)\n"
          ]
        },
        {
          "output_type": "stream",
          "name": "stderr",
          "text": [
            "100%|██████████| 46/46 [00:08<00:00,  5.18it/s]\n"
          ]
        },
        {
          "output_type": "stream",
          "name": "stdout",
          "text": [
            "Epoch  15: train loss = 0.224 (acc: 0.890), validation loss = 0.452 (acc: 0.781)\n"
          ]
        },
        {
          "output_type": "stream",
          "name": "stderr",
          "text": [
            "100%|██████████| 46/46 [00:09<00:00,  4.87it/s]\n"
          ]
        },
        {
          "output_type": "stream",
          "name": "stdout",
          "text": [
            "Epoch  16: train loss = 0.253 (acc: 0.880), validation loss = 0.578 (acc: 0.674)\n"
          ]
        },
        {
          "output_type": "stream",
          "name": "stderr",
          "text": [
            "100%|██████████| 46/46 [00:09<00:00,  4.90it/s]\n"
          ]
        },
        {
          "output_type": "stream",
          "name": "stdout",
          "text": [
            "Epoch  17: train loss = 0.220 (acc: 0.893), validation loss = 0.480 (acc: 0.760)\n"
          ]
        },
        {
          "output_type": "stream",
          "name": "stderr",
          "text": [
            "100%|██████████| 46/46 [00:09<00:00,  5.05it/s]\n"
          ]
        },
        {
          "output_type": "stream",
          "name": "stdout",
          "text": [
            "Epoch  18: train loss = 0.229 (acc: 0.892), validation loss = 0.469 (acc: 0.768)\n"
          ]
        },
        {
          "output_type": "stream",
          "name": "stderr",
          "text": [
            "100%|██████████| 46/46 [00:09<00:00,  4.90it/s]\n"
          ]
        },
        {
          "output_type": "stream",
          "name": "stdout",
          "text": [
            "Epoch  19: train loss = 0.231 (acc: 0.884), validation loss = 0.606 (acc: 0.664)\n"
          ]
        },
        {
          "output_type": "stream",
          "name": "stderr",
          "text": [
            "100%|██████████| 46/46 [00:09<00:00,  4.89it/s]\n"
          ]
        },
        {
          "output_type": "stream",
          "name": "stdout",
          "text": [
            "Epoch  20: train loss = 0.211 (acc: 0.901), validation loss = 0.464 (acc: 0.776)\n"
          ]
        },
        {
          "output_type": "stream",
          "name": "stderr",
          "text": [
            "100%|██████████| 46/46 [00:09<00:00,  4.89it/s]\n"
          ]
        },
        {
          "output_type": "stream",
          "name": "stdout",
          "text": [
            "Early stopping on epoch 21\n"
          ]
        }
      ]
    },
    {
      "cell_type": "code",
      "source": [
        "model = EncoderDecoder([32,64,128], 2, is_upsample=False).cuda()\n",
        "\n",
        "loss = torch.nn.CrossEntropyLoss(ignore_index=255)\n",
        "train_dl = DataLoader(data, batch_size=32, shuffle=True)\n",
        "test_dl = DataLoader(test_data, batch_size=32)\n",
        "optimizer = optim.Adam(model.parameters())\n",
        "\n",
        "result = fit(model, optimizer, loss, train_dl, test_dl, 50, print_metrics=True)"
      ],
      "metadata": {
        "colab": {
          "base_uri": "https://localhost:8080/"
        },
        "id": "sCVMV2GB7ZdI",
        "outputId": "6f78f18b-d882-4deb-89e9-15162190d85f"
      },
      "execution_count": 138,
      "outputs": [
        {
          "metadata": {
            "tags": null
          },
          "name": "stderr",
          "output_type": "stream",
          "text": [
            "100%|██████████| 46/46 [00:08<00:00,  5.24it/s]\n"
          ]
        },
        {
          "metadata": {
            "tags": null
          },
          "name": "stdout",
          "output_type": "stream",
          "text": [
            "Epoch  0: train loss = 0.299 (acc: 0.868), validation loss = 0.585 (acc: 0.727)\n"
          ]
        },
        {
          "metadata": {
            "tags": null
          },
          "name": "stderr",
          "output_type": "stream",
          "text": [
            "100%|██████████| 46/46 [00:09<00:00,  5.00it/s]\n"
          ]
        },
        {
          "metadata": {
            "tags": null
          },
          "name": "stdout",
          "output_type": "stream",
          "text": [
            "Epoch  1: train loss = 0.311 (acc: 0.865), validation loss = 0.570 (acc: 0.737)\n"
          ]
        },
        {
          "metadata": {
            "tags": null
          },
          "name": "stderr",
          "output_type": "stream",
          "text": [
            "100%|██████████| 46/46 [00:09<00:00,  4.97it/s]\n"
          ]
        },
        {
          "metadata": {
            "tags": null
          },
          "name": "stdout",
          "output_type": "stream",
          "text": [
            "Epoch  2: train loss = 0.462 (acc: 0.857), validation loss = 0.620 (acc: 0.695)\n"
          ]
        },
        {
          "metadata": {
            "tags": null
          },
          "name": "stderr",
          "output_type": "stream",
          "text": [
            "100%|██████████| 46/46 [00:09<00:00,  4.96it/s]\n"
          ]
        },
        {
          "metadata": {
            "tags": null
          },
          "name": "stdout",
          "output_type": "stream",
          "text": [
            "Epoch  3: train loss = 0.255 (acc: 0.872), validation loss = 0.534 (acc: 0.734)\n"
          ]
        },
        {
          "metadata": {
            "tags": null
          },
          "name": "stderr",
          "output_type": "stream",
          "text": [
            "100%|██████████| 46/46 [00:08<00:00,  5.26it/s]\n"
          ]
        },
        {
          "metadata": {
            "tags": null
          },
          "name": "stdout",
          "output_type": "stream",
          "text": [
            "Epoch  4: train loss = 0.255 (acc: 0.866), validation loss = 0.565 (acc: 0.690)\n"
          ]
        },
        {
          "metadata": {
            "tags": null
          },
          "name": "stderr",
          "output_type": "stream",
          "text": [
            "100%|██████████| 46/46 [00:09<00:00,  4.93it/s]\n"
          ]
        },
        {
          "metadata": {
            "tags": null
          },
          "name": "stdout",
          "output_type": "stream",
          "text": [
            "Epoch  5: train loss = 0.242 (acc: 0.881), validation loss = 0.518 (acc: 0.759)\n"
          ]
        },
        {
          "metadata": {
            "tags": null
          },
          "name": "stderr",
          "output_type": "stream",
          "text": [
            "100%|██████████| 46/46 [00:09<00:00,  4.86it/s]\n"
          ]
        },
        {
          "metadata": {
            "tags": null
          },
          "name": "stdout",
          "output_type": "stream",
          "text": [
            "Epoch  6: train loss = 0.242 (acc: 0.882), validation loss = 0.499 (acc: 0.749)\n"
          ]
        },
        {
          "metadata": {
            "tags": null
          },
          "name": "stderr",
          "output_type": "stream",
          "text": [
            "100%|██████████| 46/46 [00:09<00:00,  4.93it/s]\n"
          ]
        },
        {
          "metadata": {
            "tags": null
          },
          "name": "stdout",
          "output_type": "stream",
          "text": [
            "Epoch  7: train loss = 0.256 (acc: 0.861), validation loss = 0.587 (acc: 0.660)\n"
          ]
        },
        {
          "metadata": {
            "tags": null
          },
          "name": "stderr",
          "output_type": "stream",
          "text": [
            "100%|██████████| 46/46 [00:08<00:00,  5.27it/s]\n"
          ]
        },
        {
          "metadata": {
            "tags": null
          },
          "name": "stdout",
          "output_type": "stream",
          "text": [
            "Epoch  8: train loss = 0.318 (acc: 0.809), validation loss = 0.710 (acc: 0.486)\n"
          ]
        },
        {
          "metadata": {
            "tags": null
          },
          "name": "stderr",
          "output_type": "stream",
          "text": [
            "100%|██████████| 46/46 [00:08<00:00,  5.17it/s]\n"
          ]
        },
        {
          "metadata": {
            "tags": null
          },
          "name": "stdout",
          "output_type": "stream",
          "text": [
            "Epoch  9: train loss = 0.233 (acc: 0.885), validation loss = 0.475 (acc: 0.761)\n"
          ]
        },
        {
          "metadata": {
            "tags": null
          },
          "name": "stderr",
          "output_type": "stream",
          "text": [
            "100%|██████████| 46/46 [00:09<00:00,  4.97it/s]\n"
          ]
        },
        {
          "metadata": {
            "tags": null
          },
          "name": "stdout",
          "output_type": "stream",
          "text": [
            "Epoch  10: train loss = 0.256 (acc: 0.875), validation loss = 0.510 (acc: 0.746)\n"
          ]
        },
        {
          "metadata": {
            "tags": null
          },
          "name": "stderr",
          "output_type": "stream",
          "text": [
            "100%|██████████| 46/46 [00:09<00:00,  4.98it/s]\n"
          ]
        },
        {
          "metadata": {
            "tags": null
          },
          "name": "stdout",
          "output_type": "stream",
          "text": [
            "Epoch  11: train loss = 0.240 (acc: 0.879), validation loss = 0.486 (acc: 0.756)\n"
          ]
        },
        {
          "metadata": {
            "tags": null
          },
          "name": "stderr",
          "output_type": "stream",
          "text": [
            "100%|██████████| 46/46 [00:09<00:00,  4.97it/s]\n"
          ]
        },
        {
          "metadata": {
            "tags": null
          },
          "name": "stdout",
          "output_type": "stream",
          "text": [
            "Epoch  12: train loss = 0.226 (acc: 0.889), validation loss = 0.496 (acc: 0.754)\n"
          ]
        },
        {
          "metadata": {
            "tags": null
          },
          "name": "stderr",
          "output_type": "stream",
          "text": [
            "100%|██████████| 46/46 [00:08<00:00,  5.27it/s]\n"
          ]
        },
        {
          "metadata": {
            "tags": null
          },
          "name": "stdout",
          "output_type": "stream",
          "text": [
            "Epoch  13: train loss = 0.223 (acc: 0.890), validation loss = 0.484 (acc: 0.765)\n"
          ]
        },
        {
          "metadata": {
            "tags": null
          },
          "name": "stderr",
          "output_type": "stream",
          "text": [
            "100%|██████████| 46/46 [00:09<00:00,  4.98it/s]\n"
          ]
        },
        {
          "metadata": {
            "tags": null
          },
          "name": "stdout",
          "output_type": "stream",
          "text": [
            "Epoch  14: train loss = 0.222 (acc: 0.891), validation loss = 0.484 (acc: 0.759)\n"
          ]
        },
        {
          "metadata": {
            "tags": null
          },
          "name": "stderr",
          "output_type": "stream",
          "text": [
            "100%|██████████| 46/46 [00:09<00:00,  4.94it/s]\n"
          ]
        },
        {
          "metadata": {
            "tags": null
          },
          "name": "stdout",
          "output_type": "stream",
          "text": [
            "Early stopping on epoch 15\n"
          ]
        }
      ]
    },
    {
      "cell_type": "code",
      "source": [],
      "metadata": {
        "id": "OEdQdGWZJR5N"
      },
      "execution_count": 138,
      "outputs": []
    }
  ],
  "metadata": {
    "accelerator": "GPU",
    "colab": {
      "provenance": []
    },
    "kernelspec": {
      "display_name": "Python 3",
      "name": "python3"
    },
    "language_info": {
      "codemirror_mode": {
        "name": "ipython",
        "version": 3
      },
      "file_extension": ".py",
      "mimetype": "text/x-python",
      "name": "python",
      "nbconvert_exporter": "python",
      "pygments_lexer": "ipython3",
      "version": "3.11.2"
    }
  },
  "nbformat": 4,
  "nbformat_minor": 0
}